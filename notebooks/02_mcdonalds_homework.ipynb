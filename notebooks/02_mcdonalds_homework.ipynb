{
 "cells": [
  {
   "cell_type": "markdown",
   "metadata": {},
   "source": [
    "# Homework with McDonald's sentiment data"
   ]
  },
  {
   "cell_type": "markdown",
   "metadata": {},
   "source": [
    "## Imaginary problem statement\n",
    "\n",
    "McDonald's receives **thousands of customer comments** on their website per day, and many of them are negative. Their corporate employees don't have time to read every single comment, but they do want to read a subset of comments that they are most interested in. In particular, the media has recently portrayed their employees as being rude, and so they want to review comments about **rude service**.\n",
    "\n",
    "McDonald's has hired you to develop a system that ranks each comment by the **likelihood that it is referring to rude service**. They will use your system to build a \"rudeness dashboard\" for their corporate employees, so that employees can spend a few minutes each day examining the **most relevant recent comments**.\n",
    "\n",
    "## Description of the data\n",
    "\n",
    "Before hiring you, McDonald's used the [CrowdFlower platform](http://www.crowdflower.com/data-for-everyone) to pay humans to **hand-annotate** about 1500 comments with the **type of complaint**. The complaint types are listed below, with the encoding used in the data listed in parentheses:\n",
    "\n",
    "- Bad Food (BadFood)\n",
    "- Bad Neighborhood (ScaryMcDs)\n",
    "- Cost (Cost)\n",
    "- Dirty Location (Filthy)\n",
    "- Missing Item (MissingFood)\n",
    "- Problem with Order (OrderProblem)\n",
    "- Rude Service (RudeService)\n",
    "- Slow Service (SlowService)\n",
    "- None of the above (na)"
   ]
  },
  {
   "cell_type": "markdown",
   "metadata": {},
   "source": [
    "## Task 1\n",
    "\n",
    "Read **`mcdonalds.csv`** into a pandas DataFrame and examine it. (It can be found in the **`data`** directory of the course repository.)\n",
    "\n",
    "- The **policies_violated** column lists the type of complaint. If there is more than one type, the types are separated by newline characters.\n",
    "- The **policies_violated:confidence** column lists CrowdFlower's confidence in the judgments of its human annotators for that row (higher is better).\n",
    "- The **city** column is the McDonald's location.\n",
    "- The **review** column is the actual text comment."
   ]
  },
  {
   "cell_type": "code",
   "execution_count": 1,
   "metadata": {
    "collapsed": true
   },
   "outputs": [],
   "source": [
    "import pandas as pd"
   ]
  },
  {
   "cell_type": "code",
   "execution_count": 2,
   "metadata": {
    "collapsed": true
   },
   "outputs": [],
   "source": [
    "data = pd.read_csv('../data/mcdonalds.csv')"
   ]
  },
  {
   "cell_type": "code",
   "execution_count": 3,
   "metadata": {
    "collapsed": false,
    "scrolled": true
   },
   "outputs": [
    {
     "data": {
      "text/html": [
       "<div>\n",
       "<table border=\"1\" class=\"dataframe\">\n",
       "  <thead>\n",
       "    <tr style=\"text-align: right;\">\n",
       "      <th></th>\n",
       "      <th>_unit_id</th>\n",
       "      <th>_golden</th>\n",
       "      <th>_unit_state</th>\n",
       "      <th>_trusted_judgments</th>\n",
       "      <th>_last_judgment_at</th>\n",
       "      <th>policies_violated</th>\n",
       "      <th>policies_violated:confidence</th>\n",
       "      <th>city</th>\n",
       "      <th>policies_violated_gold</th>\n",
       "      <th>review</th>\n",
       "      <th>Unnamed: 10</th>\n",
       "    </tr>\n",
       "  </thead>\n",
       "  <tbody>\n",
       "    <tr>\n",
       "      <th>0</th>\n",
       "      <td>679455653</td>\n",
       "      <td>False</td>\n",
       "      <td>finalized</td>\n",
       "      <td>3</td>\n",
       "      <td>2/21/15 0:36</td>\n",
       "      <td>RudeService\\nOrderProblem\\nFilthy</td>\n",
       "      <td>1.0\\n0.6667\\n0.6667</td>\n",
       "      <td>Atlanta</td>\n",
       "      <td>NaN</td>\n",
       "      <td>I'm not a huge mcds lover, but I've been to be...</td>\n",
       "      <td>NaN</td>\n",
       "    </tr>\n",
       "    <tr>\n",
       "      <th>1</th>\n",
       "      <td>679455654</td>\n",
       "      <td>False</td>\n",
       "      <td>finalized</td>\n",
       "      <td>3</td>\n",
       "      <td>2/21/15 0:27</td>\n",
       "      <td>RudeService</td>\n",
       "      <td>1</td>\n",
       "      <td>Atlanta</td>\n",
       "      <td>NaN</td>\n",
       "      <td>Terrible customer service. ŒæI came in at 9:30...</td>\n",
       "      <td>NaN</td>\n",
       "    </tr>\n",
       "    <tr>\n",
       "      <th>2</th>\n",
       "      <td>679455655</td>\n",
       "      <td>False</td>\n",
       "      <td>finalized</td>\n",
       "      <td>3</td>\n",
       "      <td>2/21/15 0:26</td>\n",
       "      <td>SlowService\\nOrderProblem</td>\n",
       "      <td>1.0\\n1.0</td>\n",
       "      <td>Atlanta</td>\n",
       "      <td>NaN</td>\n",
       "      <td>First they \"lost\" my order, actually they gave...</td>\n",
       "      <td>NaN</td>\n",
       "    </tr>\n",
       "    <tr>\n",
       "      <th>3</th>\n",
       "      <td>679455656</td>\n",
       "      <td>False</td>\n",
       "      <td>finalized</td>\n",
       "      <td>3</td>\n",
       "      <td>2/21/15 0:27</td>\n",
       "      <td>na</td>\n",
       "      <td>0.6667</td>\n",
       "      <td>Atlanta</td>\n",
       "      <td>NaN</td>\n",
       "      <td>I see I'm not the only one giving 1 star. Only...</td>\n",
       "      <td>NaN</td>\n",
       "    </tr>\n",
       "    <tr>\n",
       "      <th>4</th>\n",
       "      <td>679455657</td>\n",
       "      <td>False</td>\n",
       "      <td>finalized</td>\n",
       "      <td>3</td>\n",
       "      <td>2/21/15 0:27</td>\n",
       "      <td>RudeService</td>\n",
       "      <td>1</td>\n",
       "      <td>Atlanta</td>\n",
       "      <td>NaN</td>\n",
       "      <td>Well, it's McDonald's, so you know what the fo...</td>\n",
       "      <td>NaN</td>\n",
       "    </tr>\n",
       "  </tbody>\n",
       "</table>\n",
       "</div>"
      ],
      "text/plain": [
       "    _unit_id _golden _unit_state  _trusted_judgments _last_judgment_at  \\\n",
       "0  679455653   False   finalized                   3      2/21/15 0:36   \n",
       "1  679455654   False   finalized                   3      2/21/15 0:27   \n",
       "2  679455655   False   finalized                   3      2/21/15 0:26   \n",
       "3  679455656   False   finalized                   3      2/21/15 0:27   \n",
       "4  679455657   False   finalized                   3      2/21/15 0:27   \n",
       "\n",
       "                   policies_violated policies_violated:confidence     city  \\\n",
       "0  RudeService\\nOrderProblem\\nFilthy          1.0\\n0.6667\\n0.6667  Atlanta   \n",
       "1                        RudeService                            1  Atlanta   \n",
       "2          SlowService\\nOrderProblem                     1.0\\n1.0  Atlanta   \n",
       "3                                 na                       0.6667  Atlanta   \n",
       "4                        RudeService                            1  Atlanta   \n",
       "\n",
       "   policies_violated_gold                                             review  \\\n",
       "0                     NaN  I'm not a huge mcds lover, but I've been to be...   \n",
       "1                     NaN  Terrible customer service. ŒæI came in at 9:30...   \n",
       "2                     NaN  First they \"lost\" my order, actually they gave...   \n",
       "3                     NaN  I see I'm not the only one giving 1 star. Only...   \n",
       "4                     NaN  Well, it's McDonald's, so you know what the fo...   \n",
       "\n",
       "   Unnamed: 10  \n",
       "0          NaN  \n",
       "1          NaN  \n",
       "2          NaN  \n",
       "3          NaN  \n",
       "4          NaN  "
      ]
     },
     "execution_count": 3,
     "metadata": {},
     "output_type": "execute_result"
    }
   ],
   "source": [
    "data.head()"
   ]
  },
  {
   "cell_type": "code",
   "execution_count": 4,
   "metadata": {
    "collapsed": false
   },
   "outputs": [
    {
     "data": {
      "text/plain": [
       "Las Vegas      409\n",
       "Chicago        219\n",
       "Los Angeles    167\n",
       "New York       165\n",
       "Atlanta        130\n",
       "Houston        105\n",
       "Portland        97\n",
       "Dallas          75\n",
       "Cleveland       71\n",
       "dtype: int64"
      ]
     },
     "execution_count": 4,
     "metadata": {},
     "output_type": "execute_result"
    }
   ],
   "source": [
    "data.city.value_counts()"
   ]
  },
  {
   "cell_type": "code",
   "execution_count": 5,
   "metadata": {
    "collapsed": false
   },
   "outputs": [
    {
     "data": {
      "text/plain": [
       "(1525, 11)"
      ]
     },
     "execution_count": 5,
     "metadata": {},
     "output_type": "execute_result"
    }
   ],
   "source": [
    "data.shape"
   ]
  },
  {
   "cell_type": "markdown",
   "metadata": {},
   "source": [
    "## Task 2\n",
    "\n",
    "Remove any rows from the DataFrame in which the **policies_violated** column has a **null value**. Check the shape of the DataFrame before and after to confirm that you only removed about 50 rows.\n",
    "\n",
    "- **Note:** Null values are also known as \"missing values\", and are encoded in pandas with the special value \"NaN\". This is distinct from the \"na\" encoding used by CrowdFlower to denote \"None of the above\". Rows that contain \"na\" should **not** be removed.\n",
    "- **Hint:** [How do I handle missing values in pandas?](https://www.youtube.com/watch?v=fCMrO_VzeL8&list=PL5-da3qGB5ICCsgW1MxlZ0Hq8LL5U3u9y&index=16) explains how to do this."
   ]
  },
  {
   "cell_type": "code",
   "execution_count": 20,
   "metadata": {
    "collapsed": false
   },
   "outputs": [],
   "source": [
    "data = data[data.policies_violated.isnull() == False]"
   ]
  },
  {
   "cell_type": "code",
   "execution_count": 21,
   "metadata": {
    "collapsed": false
   },
   "outputs": [
    {
     "data": {
      "text/plain": [
       "(1471, 11)"
      ]
     },
     "execution_count": 21,
     "metadata": {},
     "output_type": "execute_result"
    }
   ],
   "source": [
    "data.shape"
   ]
  },
  {
   "cell_type": "markdown",
   "metadata": {},
   "source": [
    "## Task 3\n",
    "\n",
    "Add a new column to the DataFrame called **\"rude\"** that is 1 if the **policies_violated** column contains the text \"RudeService\", and 0 if the **policies_violated** column does not contain \"RudeService\". The \"rude\" column is going to be your response variable, so check how many zeros and ones it contains.\n",
    "\n",
    "- **Hint:** [How do I use string methods in pandas?](https://www.youtube.com/watch?v=bofaC0IckHo&list=PL5-da3qGB5ICCsgW1MxlZ0Hq8LL5U3u9y&index=12) shows how to search for the presence of a substring, and [How do I change the data type of a pandas Series?](https://www.youtube.com/watch?v=V0AWyzVMf54&list=PL5-da3qGB5ICCsgW1MxlZ0Hq8LL5U3u9y&index=13) shows how to convert the boolean results (True/False) to integers (1/0)."
   ]
  },
  {
   "cell_type": "code",
   "execution_count": 32,
   "metadata": {
    "collapsed": false
   },
   "outputs": [],
   "source": [
    "data['rude'] = data.policies_violated.str.contains('RudeService').map({False: 0, True: 1})"
   ]
  },
  {
   "cell_type": "code",
   "execution_count": 33,
   "metadata": {
    "collapsed": false
   },
   "outputs": [
    {
     "data": {
      "text/html": [
       "<div>\n",
       "<table border=\"1\" class=\"dataframe\">\n",
       "  <thead>\n",
       "    <tr style=\"text-align: right;\">\n",
       "      <th></th>\n",
       "      <th>_unit_id</th>\n",
       "      <th>_golden</th>\n",
       "      <th>_unit_state</th>\n",
       "      <th>_trusted_judgments</th>\n",
       "      <th>_last_judgment_at</th>\n",
       "      <th>policies_violated</th>\n",
       "      <th>policies_violated:confidence</th>\n",
       "      <th>city</th>\n",
       "      <th>policies_violated_gold</th>\n",
       "      <th>review</th>\n",
       "      <th>Unnamed: 10</th>\n",
       "      <th>rude</th>\n",
       "    </tr>\n",
       "  </thead>\n",
       "  <tbody>\n",
       "    <tr>\n",
       "      <th>0</th>\n",
       "      <td>679455653</td>\n",
       "      <td>False</td>\n",
       "      <td>finalized</td>\n",
       "      <td>3</td>\n",
       "      <td>2/21/15 0:36</td>\n",
       "      <td>RudeService\\nOrderProblem\\nFilthy</td>\n",
       "      <td>1.0\\n0.6667\\n0.6667</td>\n",
       "      <td>Atlanta</td>\n",
       "      <td>NaN</td>\n",
       "      <td>I'm not a huge mcds lover, but I've been to be...</td>\n",
       "      <td>NaN</td>\n",
       "      <td>1</td>\n",
       "    </tr>\n",
       "    <tr>\n",
       "      <th>1</th>\n",
       "      <td>679455654</td>\n",
       "      <td>False</td>\n",
       "      <td>finalized</td>\n",
       "      <td>3</td>\n",
       "      <td>2/21/15 0:27</td>\n",
       "      <td>RudeService</td>\n",
       "      <td>1</td>\n",
       "      <td>Atlanta</td>\n",
       "      <td>NaN</td>\n",
       "      <td>Terrible customer service. ŒæI came in at 9:30...</td>\n",
       "      <td>NaN</td>\n",
       "      <td>1</td>\n",
       "    </tr>\n",
       "    <tr>\n",
       "      <th>2</th>\n",
       "      <td>679455655</td>\n",
       "      <td>False</td>\n",
       "      <td>finalized</td>\n",
       "      <td>3</td>\n",
       "      <td>2/21/15 0:26</td>\n",
       "      <td>SlowService\\nOrderProblem</td>\n",
       "      <td>1.0\\n1.0</td>\n",
       "      <td>Atlanta</td>\n",
       "      <td>NaN</td>\n",
       "      <td>First they \"lost\" my order, actually they gave...</td>\n",
       "      <td>NaN</td>\n",
       "      <td>0</td>\n",
       "    </tr>\n",
       "    <tr>\n",
       "      <th>3</th>\n",
       "      <td>679455656</td>\n",
       "      <td>False</td>\n",
       "      <td>finalized</td>\n",
       "      <td>3</td>\n",
       "      <td>2/21/15 0:27</td>\n",
       "      <td>na</td>\n",
       "      <td>0.6667</td>\n",
       "      <td>Atlanta</td>\n",
       "      <td>NaN</td>\n",
       "      <td>I see I'm not the only one giving 1 star. Only...</td>\n",
       "      <td>NaN</td>\n",
       "      <td>0</td>\n",
       "    </tr>\n",
       "    <tr>\n",
       "      <th>4</th>\n",
       "      <td>679455657</td>\n",
       "      <td>False</td>\n",
       "      <td>finalized</td>\n",
       "      <td>3</td>\n",
       "      <td>2/21/15 0:27</td>\n",
       "      <td>RudeService</td>\n",
       "      <td>1</td>\n",
       "      <td>Atlanta</td>\n",
       "      <td>NaN</td>\n",
       "      <td>Well, it's McDonald's, so you know what the fo...</td>\n",
       "      <td>NaN</td>\n",
       "      <td>1</td>\n",
       "    </tr>\n",
       "  </tbody>\n",
       "</table>\n",
       "</div>"
      ],
      "text/plain": [
       "    _unit_id _golden _unit_state  _trusted_judgments _last_judgment_at  \\\n",
       "0  679455653   False   finalized                   3      2/21/15 0:36   \n",
       "1  679455654   False   finalized                   3      2/21/15 0:27   \n",
       "2  679455655   False   finalized                   3      2/21/15 0:26   \n",
       "3  679455656   False   finalized                   3      2/21/15 0:27   \n",
       "4  679455657   False   finalized                   3      2/21/15 0:27   \n",
       "\n",
       "                   policies_violated policies_violated:confidence     city  \\\n",
       "0  RudeService\\nOrderProblem\\nFilthy          1.0\\n0.6667\\n0.6667  Atlanta   \n",
       "1                        RudeService                            1  Atlanta   \n",
       "2          SlowService\\nOrderProblem                     1.0\\n1.0  Atlanta   \n",
       "3                                 na                       0.6667  Atlanta   \n",
       "4                        RudeService                            1  Atlanta   \n",
       "\n",
       "   policies_violated_gold                                             review  \\\n",
       "0                     NaN  I'm not a huge mcds lover, but I've been to be...   \n",
       "1                     NaN  Terrible customer service. ŒæI came in at 9:30...   \n",
       "2                     NaN  First they \"lost\" my order, actually they gave...   \n",
       "3                     NaN  I see I'm not the only one giving 1 star. Only...   \n",
       "4                     NaN  Well, it's McDonald's, so you know what the fo...   \n",
       "\n",
       "   Unnamed: 10  rude  \n",
       "0          NaN     1  \n",
       "1          NaN     1  \n",
       "2          NaN     0  \n",
       "3          NaN     0  \n",
       "4          NaN     1  "
      ]
     },
     "execution_count": 33,
     "metadata": {},
     "output_type": "execute_result"
    }
   ],
   "source": [
    "data.head()"
   ]
  },
  {
   "cell_type": "code",
   "execution_count": 34,
   "metadata": {
    "collapsed": false
   },
   "outputs": [
    {
     "data": {
      "text/plain": [
       "0    968\n",
       "1    503\n",
       "dtype: int64"
      ]
     },
     "execution_count": 34,
     "metadata": {},
     "output_type": "execute_result"
    }
   ],
   "source": [
    "data['rude'].value_counts()"
   ]
  },
  {
   "cell_type": "markdown",
   "metadata": {},
   "source": [
    "## Task 4\n",
    "\n",
    "1. Define X (the **review** column) and y (the **rude** column).\n",
    "2. Split X and y into training and testing sets (using the parameter **`random_state=1`**).\n",
    "3. Use CountVectorizer (with the **default parameters**) to create document-term matrices from X_train and X_test."
   ]
  },
  {
   "cell_type": "code",
   "execution_count": 35,
   "metadata": {
    "collapsed": true
   },
   "outputs": [],
   "source": [
    "X, y = data.review, data.rude"
   ]
  },
  {
   "cell_type": "code",
   "execution_count": 38,
   "metadata": {
    "collapsed": true
   },
   "outputs": [],
   "source": [
    "from sklearn.cross_validation import train_test_split\n",
    "X_train, X_test, y_train, y_test = train_test_split(X, y, random_state=1)"
   ]
  },
  {
   "cell_type": "code",
   "execution_count": 40,
   "metadata": {
    "collapsed": false
   },
   "outputs": [
    {
     "name": "stdout",
     "output_type": "stream",
     "text": [
      "(1103,)\n",
      "(368,)\n",
      "(1103,)\n",
      "(368,)\n"
     ]
    }
   ],
   "source": [
    "print(X_train.shape)\n",
    "print(X_test.shape)\n",
    "print(y_train.shape)\n",
    "print(y_test.shape)"
   ]
  },
  {
   "cell_type": "code",
   "execution_count": 56,
   "metadata": {
    "collapsed": true
   },
   "outputs": [],
   "source": [
    "from sklearn.feature_extraction.text import CountVectorizer\n",
    "vect = CountVectorizer()"
   ]
  },
  {
   "cell_type": "code",
   "execution_count": 57,
   "metadata": {
    "collapsed": false
   },
   "outputs": [
    {
     "data": {
      "text/plain": [
       "CountVectorizer(analyzer=u'word', binary=False, decode_error=u'strict',\n",
       "        dtype=<type 'numpy.int64'>, encoding=u'utf-8', input=u'content',\n",
       "        lowercase=True, max_df=1.0, max_features=None, min_df=1,\n",
       "        ngram_range=(1, 1), preprocessor=None, stop_words=None,\n",
       "        strip_accents=None, token_pattern=u'(?u)\\\\b\\\\w\\\\w+\\\\b',\n",
       "        tokenizer=None, vocabulary=None)"
      ]
     },
     "execution_count": 57,
     "metadata": {},
     "output_type": "execute_result"
    }
   ],
   "source": [
    "vect"
   ]
  },
  {
   "cell_type": "code",
   "execution_count": 58,
   "metadata": {
    "collapsed": false
   },
   "outputs": [
    {
     "data": {
      "text/plain": [
       "35      The ice cream machine is always \"down\" after 1...\n",
       "1287    This particular McDonald's happens to be open ...\n",
       "1489    We loooooove junk food and we love McDonalds B...\n",
       "595     3 stars is about as good a review as a McDonal...\n",
       "738     This place can't get an order correct to save ...\n",
       "Name: review, dtype: object"
      ]
     },
     "execution_count": 58,
     "metadata": {},
     "output_type": "execute_result"
    }
   ],
   "source": [
    "X_train.head()"
   ]
  },
  {
   "cell_type": "code",
   "execution_count": 59,
   "metadata": {
    "collapsed": false
   },
   "outputs": [],
   "source": [
    "X_train_dtm = vect.fit_transform(X_train)"
   ]
  },
  {
   "cell_type": "code",
   "execution_count": 61,
   "metadata": {
    "collapsed": false
   },
   "outputs": [],
   "source": [
    "X_test_dtm = vect.transform(X_test)"
   ]
  },
  {
   "cell_type": "code",
   "execution_count": 63,
   "metadata": {
    "collapsed": false
   },
   "outputs": [
    {
     "data": {
      "text/plain": [
       "<bound method csr_matrix.get_shape of <1103x7300 sparse matrix of type '<type 'numpy.int64'>'\n",
       "\twith 70807 stored elements in Compressed Sparse Row format>>"
      ]
     },
     "execution_count": 63,
     "metadata": {},
     "output_type": "execute_result"
    }
   ],
   "source": [
    "X_train_dtm.get_shape"
   ]
  },
  {
   "cell_type": "markdown",
   "metadata": {},
   "source": [
    "## Task 5\n",
    "\n",
    "Fit a Multinomial Naive Bayes model to the training set, calculate the **predicted probabilites** (not the class predictions) for the testing set, and then calculate the **AUC**. Repeat this task using a logistic regression model to see which of the two models achieves a better AUC.\n",
    "\n",
    "- **Note:** Because McDonald's only cares about ranking the comments by the likelihood that they refer to rude service, **classification accuracy** is not the relevant evaluation metric. **Area Under the Curve (AUC)** is a more useful evaluation metric for this scenario, since it measures the ability of the classifier to assign higher predicted probabilities to positive instances than to negative instances.\n",
    "- **Hint:** [Evaluating a classification model](https://github.com/justmarkham/scikit-learn-videos/blob/master/09_classification_metrics.ipynb) explains how to calculate predicted probabilities and AUC, and my [blog post and video](http://www.dataschool.io/roc-curves-and-auc-explained/) explain AUC in-depth."
   ]
  },
  {
   "cell_type": "code",
   "execution_count": 64,
   "metadata": {
    "collapsed": true
   },
   "outputs": [],
   "source": [
    "from sklearn.naive_bayes import MultinomialNB"
   ]
  },
  {
   "cell_type": "code",
   "execution_count": 65,
   "metadata": {
    "collapsed": true
   },
   "outputs": [],
   "source": [
    "nb = MultinomialNB()"
   ]
  },
  {
   "cell_type": "code",
   "execution_count": 66,
   "metadata": {
    "collapsed": false
   },
   "outputs": [
    {
     "data": {
      "text/plain": [
       "MultinomialNB(alpha=1.0, class_prior=None, fit_prior=True)"
      ]
     },
     "execution_count": 66,
     "metadata": {},
     "output_type": "execute_result"
    }
   ],
   "source": [
    "nb.fit(X_train_dtm, y_train)"
   ]
  },
  {
   "cell_type": "code",
   "execution_count": 67,
   "metadata": {
    "collapsed": true
   },
   "outputs": [],
   "source": [
    "y_pred = nb.predict(X_test_dtm)"
   ]
  },
  {
   "cell_type": "code",
   "execution_count": 68,
   "metadata": {
    "collapsed": true
   },
   "outputs": [],
   "source": [
    "from sklearn import metrics"
   ]
  },
  {
   "cell_type": "code",
   "execution_count": 72,
   "metadata": {
    "collapsed": false
   },
   "outputs": [
    {
     "data": {
      "text/plain": [
       "0.79891304347826086"
      ]
     },
     "execution_count": 72,
     "metadata": {},
     "output_type": "execute_result"
    }
   ],
   "source": [
    "metrics.accuracy_score(y_test, y_pred)"
   ]
  },
  {
   "cell_type": "code",
   "execution_count": 76,
   "metadata": {
    "collapsed": false
   },
   "outputs": [
    {
     "name": "stdout",
     "output_type": "stream",
     "text": [
      "('True: ', array([1, 1, 0, 0, 1, 1, 0, 0, 0, 0, 1, 1, 0, 0, 0, 0, 0, 0, 0, 0]))\n",
      "('Pred: ', array([1, 0, 1, 0, 0, 1, 0, 0, 0, 0, 1, 0, 0, 1, 0, 1, 0, 1, 0, 0]))\n"
     ]
    }
   ],
   "source": [
    "print(\"True: \", y_test.values[:20])\n",
    "print(\"Pred: \", y_pred[:20])"
   ]
  },
  {
   "cell_type": "code",
   "execution_count": 77,
   "metadata": {
    "collapsed": true
   },
   "outputs": [],
   "source": [
    "confusion = metrics.confusion_matrix(y_test, y_pred)\n",
    "\n",
    "TP = confusion[1,1]\n",
    "TN = confusion[0,0]\n",
    "FP = confusion[0,1]\n",
    "FN = confusion[1,0]"
   ]
  },
  {
   "cell_type": "code",
   "execution_count": 78,
   "metadata": {
    "collapsed": false
   },
   "outputs": [
    {
     "name": "stdout",
     "output_type": "stream",
     "text": [
      "0.798913043478\n",
      "0.798913043478\n"
     ]
    }
   ],
   "source": [
    "print( (TP + TN)/float(TP + TN + FP + FN) )\n",
    "print(metrics.accuracy_score(y_test, y_pred))"
   ]
  },
  {
   "cell_type": "code",
   "execution_count": null,
   "metadata": {
    "collapsed": true
   },
   "outputs": [],
   "source": []
  },
  {
   "cell_type": "code",
   "execution_count": null,
   "metadata": {
    "collapsed": true
   },
   "outputs": [],
   "source": []
  },
  {
   "cell_type": "code",
   "execution_count": 70,
   "metadata": {
    "collapsed": true
   },
   "outputs": [],
   "source": [
    "y_pred_prob = nb.predict_proba(X_test_dtm)"
   ]
  },
  {
   "cell_type": "code",
   "execution_count": 71,
   "metadata": {
    "collapsed": false
   },
   "outputs": [
    {
     "data": {
      "text/plain": [
       "array([[  7.65356960e-04,   9.99234643e-01],\n",
       "       [  7.40757029e-01,   2.59242971e-01],\n",
       "       [  1.42131323e-01,   8.57868677e-01],\n",
       "       [  9.99997323e-01,   2.67695702e-06],\n",
       "       [  7.31451479e-01,   2.68548521e-01],\n",
       "       [  2.53021828e-03,   9.97469782e-01],\n",
       "       [  9.99259300e-01,   7.40699844e-04],\n",
       "       [  9.99999999e-01,   1.11406133e-09],\n",
       "       [  8.08085364e-01,   1.91914636e-01],\n",
       "       [  5.88988436e-01,   4.11011564e-01],\n",
       "       [  2.53301622e-03,   9.97466984e-01],\n",
       "       [  9.46171578e-01,   5.38284222e-02],\n",
       "       [  9.99999319e-01,   6.80854939e-07],\n",
       "       [  1.65506300e-01,   8.34493700e-01],\n",
       "       [  7.84195144e-01,   2.15804856e-01],\n",
       "       [  4.35882095e-03,   9.95641179e-01],\n",
       "       [  9.99880861e-01,   1.19139453e-04],\n",
       "       [  1.49890227e-24,   1.00000000e+00],\n",
       "       [  9.97043900e-01,   2.95609981e-03],\n",
       "       [  9.14383975e-01,   8.56160253e-02],\n",
       "       [  9.99999893e-01,   1.07358615e-07],\n",
       "       [  9.98752629e-01,   1.24737099e-03],\n",
       "       [  9.96825758e-01,   3.17424163e-03],\n",
       "       [  1.88627143e-04,   9.99811373e-01],\n",
       "       [  7.02496909e-01,   2.97503091e-01],\n",
       "       [  9.99999831e-01,   1.69157013e-07],\n",
       "       [  4.26809352e-01,   5.73190648e-01],\n",
       "       [  8.19462419e-01,   1.80537581e-01],\n",
       "       [  9.07632451e-01,   9.23675492e-02],\n",
       "       [  2.73049407e-01,   7.26950593e-01],\n",
       "       [  2.68909220e-01,   7.31090780e-01],\n",
       "       [  1.68068591e-06,   9.99998319e-01],\n",
       "       [  8.37063446e-09,   9.99999992e-01],\n",
       "       [  9.99998467e-01,   1.53328396e-06],\n",
       "       [  8.76347912e-09,   9.99999991e-01],\n",
       "       [  9.81582279e-01,   1.84177211e-02],\n",
       "       [  6.43789965e-01,   3.56210035e-01],\n",
       "       [  4.17972497e-01,   5.82027503e-01],\n",
       "       [  9.99455646e-01,   5.44354319e-04],\n",
       "       [  7.34476515e-01,   2.65523485e-01],\n",
       "       [  9.98722831e-01,   1.27716883e-03],\n",
       "       [  9.99023262e-01,   9.76737932e-04],\n",
       "       [  2.81369817e-01,   7.18630183e-01],\n",
       "       [  9.68319765e-01,   3.16802348e-02],\n",
       "       [  9.99999999e-01,   1.07181170e-09],\n",
       "       [  9.99994345e-01,   5.65547636e-06],\n",
       "       [  9.95463668e-01,   4.53633177e-03],\n",
       "       [  9.99727007e-01,   2.72992981e-04],\n",
       "       [  9.30527758e-01,   6.94722415e-02],\n",
       "       [  9.99627117e-01,   3.72882801e-04],\n",
       "       [  7.05586198e-01,   2.94413802e-01],\n",
       "       [  1.44106276e-05,   9.99985589e-01],\n",
       "       [  1.53694503e-05,   9.99984631e-01],\n",
       "       [  9.99999477e-01,   5.22563238e-07],\n",
       "       [  1.00000000e+00,   4.36662103e-17],\n",
       "       [  9.99934511e-01,   6.54892947e-05],\n",
       "       [  9.17376194e-01,   8.26238059e-02],\n",
       "       [  1.00000000e+00,   2.98225744e-11],\n",
       "       [  9.99826745e-01,   1.73254944e-04],\n",
       "       [  9.99973082e-01,   2.69180832e-05],\n",
       "       [  9.99957481e-01,   4.25185162e-05],\n",
       "       [  9.99751948e-01,   2.48052046e-04],\n",
       "       [  7.38452693e-09,   9.99999993e-01],\n",
       "       [  3.71778856e-01,   6.28221144e-01],\n",
       "       [  9.83296598e-01,   1.67034017e-02],\n",
       "       [  9.96753147e-01,   3.24685286e-03],\n",
       "       [  1.99993245e-02,   9.80000675e-01],\n",
       "       [  9.79459080e-01,   2.05409204e-02],\n",
       "       [  6.47657059e-01,   3.52342941e-01],\n",
       "       [  9.99717692e-01,   2.82308284e-04],\n",
       "       [  9.98329432e-01,   1.67056796e-03],\n",
       "       [  4.11098209e-01,   5.88901791e-01],\n",
       "       [  9.99942454e-01,   5.75455337e-05],\n",
       "       [  1.25505585e-01,   8.74494415e-01],\n",
       "       [  2.96594275e-01,   7.03405725e-01],\n",
       "       [  9.52940096e-01,   4.70599044e-02],\n",
       "       [  5.73226819e-03,   9.94267732e-01],\n",
       "       [  9.77092384e-01,   2.29076161e-02],\n",
       "       [  9.72716582e-01,   2.72834177e-02],\n",
       "       [  9.88325900e-01,   1.16741002e-02],\n",
       "       [  9.55131515e-01,   4.48684851e-02],\n",
       "       [  9.98486369e-01,   1.51363100e-03],\n",
       "       [  4.78712002e-01,   5.21287998e-01],\n",
       "       [  9.27576333e-01,   7.24236672e-02],\n",
       "       [  1.65390904e-01,   8.34609096e-01],\n",
       "       [  9.99996704e-01,   3.29583439e-06],\n",
       "       [  6.93935705e-01,   3.06064295e-01],\n",
       "       [  9.94222624e-01,   5.77737550e-03],\n",
       "       [  7.24515583e-01,   2.75484417e-01],\n",
       "       [  9.99157810e-01,   8.42190214e-04],\n",
       "       [  9.92402754e-01,   7.59724630e-03],\n",
       "       [  9.82391325e-01,   1.76086751e-02],\n",
       "       [  4.92827026e-01,   5.07172974e-01],\n",
       "       [  7.59453201e-01,   2.40546799e-01],\n",
       "       [  2.62382556e-03,   9.97376174e-01],\n",
       "       [  9.99998583e-01,   1.41671938e-06],\n",
       "       [  3.59357990e-05,   9.99964064e-01],\n",
       "       [  9.90522937e-01,   9.47706336e-03],\n",
       "       [  9.99999911e-01,   8.93687145e-08],\n",
       "       [  9.99999712e-01,   2.87996558e-07],\n",
       "       [  1.97103102e-05,   9.99980290e-01],\n",
       "       [  9.99973972e-01,   2.60279376e-05],\n",
       "       [  9.99633884e-01,   3.66115928e-04],\n",
       "       [  9.64913563e-01,   3.50864374e-02],\n",
       "       [  9.99856357e-01,   1.43642760e-04],\n",
       "       [  9.82905360e-01,   1.70946397e-02],\n",
       "       [  2.59461154e-03,   9.97405388e-01],\n",
       "       [  5.28268680e-03,   9.94717313e-01],\n",
       "       [  3.78983693e-02,   9.62101631e-01],\n",
       "       [  3.22054218e-01,   6.77945782e-01],\n",
       "       [  9.74472241e-01,   2.55277589e-02],\n",
       "       [  1.00000000e+00,   2.82875966e-10],\n",
       "       [  1.00000000e+00,   1.23603524e-13],\n",
       "       [  7.22164425e-01,   2.77835575e-01],\n",
       "       [  1.60055130e-07,   9.99999840e-01],\n",
       "       [  4.31910509e-01,   5.68089491e-01],\n",
       "       [  1.08740528e-08,   9.99999989e-01],\n",
       "       [  9.99464154e-01,   5.35846238e-04],\n",
       "       [  7.31936633e-01,   2.68063367e-01],\n",
       "       [  4.62079010e-14,   1.00000000e+00],\n",
       "       [  9.94761410e-01,   5.23859027e-03],\n",
       "       [  9.65422295e-01,   3.45777049e-02],\n",
       "       [  9.94617192e-01,   5.38280754e-03],\n",
       "       [  6.62525193e-01,   3.37474807e-01],\n",
       "       [  9.99999999e-01,   5.85368819e-10],\n",
       "       [  4.13335752e-02,   9.58666425e-01],\n",
       "       [  9.99660167e-01,   3.39833190e-04],\n",
       "       [  9.38490859e-01,   6.15091411e-02],\n",
       "       [  9.97393683e-01,   2.60631658e-03],\n",
       "       [  2.01926537e-01,   7.98073463e-01],\n",
       "       [  9.94184836e-01,   5.81516353e-03],\n",
       "       [  1.99993245e-02,   9.80000675e-01],\n",
       "       [  9.48073811e-01,   5.19261887e-02],\n",
       "       [  6.03284567e-02,   9.39671543e-01],\n",
       "       [  9.78736661e-01,   2.12633395e-02],\n",
       "       [  2.21771332e-05,   9.99977823e-01],\n",
       "       [  9.96833276e-01,   3.16672365e-03],\n",
       "       [  8.34688051e-01,   1.65311949e-01],\n",
       "       [  7.17239104e-01,   2.82760896e-01],\n",
       "       [  9.99991177e-01,   8.82303424e-06],\n",
       "       [  9.99999400e-01,   5.99734949e-07],\n",
       "       [  5.62496929e-01,   4.37503071e-01],\n",
       "       [  9.94079993e-01,   5.92000743e-03],\n",
       "       [  8.45034554e-01,   1.54965446e-01],\n",
       "       [  1.03775990e-03,   9.98962240e-01],\n",
       "       [  6.56445466e-01,   3.43554534e-01],\n",
       "       [  1.00000000e+00,   2.32349519e-10],\n",
       "       [  9.98789498e-01,   1.21050157e-03],\n",
       "       [  9.99996163e-01,   3.83741163e-06],\n",
       "       [  5.78964775e-03,   9.94210352e-01],\n",
       "       [  1.00000000e+00,   2.32159896e-16],\n",
       "       [  9.99544190e-01,   4.55809978e-04],\n",
       "       [  9.95328614e-01,   4.67138581e-03],\n",
       "       [  4.10930277e-02,   9.58906972e-01],\n",
       "       [  9.99971615e-01,   2.83850861e-05],\n",
       "       [  5.52241635e-01,   4.47758365e-01],\n",
       "       [  9.99993590e-01,   6.41040849e-06],\n",
       "       [  9.72598175e-01,   2.74018255e-02],\n",
       "       [  9.44274601e-01,   5.57253992e-02],\n",
       "       [  9.82658651e-01,   1.73413486e-02],\n",
       "       [  5.92772759e-01,   4.07227241e-01],\n",
       "       [  1.45723786e-05,   9.99985428e-01],\n",
       "       [  5.83811906e-01,   4.16188094e-01],\n",
       "       [  9.99998432e-01,   1.56830480e-06],\n",
       "       [  9.99677927e-01,   3.22073272e-04],\n",
       "       [  8.65687206e-01,   1.34312794e-01],\n",
       "       [  9.98910653e-01,   1.08934695e-03],\n",
       "       [  9.99947453e-01,   5.25474965e-05],\n",
       "       [  9.99999576e-01,   4.23904083e-07],\n",
       "       [  5.61222639e-01,   4.38777361e-01],\n",
       "       [  9.99955140e-01,   4.48604972e-05],\n",
       "       [  9.99505778e-01,   4.94221504e-04],\n",
       "       [  9.91500534e-01,   8.49946600e-03],\n",
       "       [  1.16460124e-02,   9.88353988e-01],\n",
       "       [  9.66550714e-01,   3.34492860e-02],\n",
       "       [  9.90833911e-01,   9.16608875e-03],\n",
       "       [  2.57222940e-02,   9.74277706e-01],\n",
       "       [  1.04727750e-03,   9.98952723e-01],\n",
       "       [  9.99978143e-01,   2.18573549e-05],\n",
       "       [  9.37646755e-01,   6.23532453e-02],\n",
       "       [  9.99978473e-01,   2.15274593e-05],\n",
       "       [  9.97231275e-01,   2.76872455e-03],\n",
       "       [  9.54852662e-01,   4.51473383e-02],\n",
       "       [  9.93929920e-01,   6.07007951e-03],\n",
       "       [  9.99914917e-01,   8.50825862e-05],\n",
       "       [  1.87188172e-03,   9.98128118e-01],\n",
       "       [  1.22589526e-01,   8.77410474e-01],\n",
       "       [  9.99999991e-01,   8.62493578e-09],\n",
       "       [  4.87124501e-01,   5.12875499e-01],\n",
       "       [  9.85903199e-01,   1.40968005e-02],\n",
       "       [  5.00718863e-01,   4.99281137e-01],\n",
       "       [  9.83316519e-09,   9.99999990e-01],\n",
       "       [  8.29049742e-01,   1.70950258e-01],\n",
       "       [  6.50586714e-01,   3.49413286e-01],\n",
       "       [  7.30179536e-01,   2.69820464e-01],\n",
       "       [  9.57093913e-01,   4.29060875e-02],\n",
       "       [  4.73940854e-02,   9.52605915e-01],\n",
       "       [  9.99996108e-01,   3.89222735e-06],\n",
       "       [  2.23996985e-01,   7.76003015e-01],\n",
       "       [  1.17317412e-05,   9.99988268e-01],\n",
       "       [  9.96885243e-01,   3.11475689e-03],\n",
       "       [  9.03594086e-01,   9.64059136e-02],\n",
       "       [  9.74242220e-01,   2.57577799e-02],\n",
       "       [  6.76316708e-01,   3.23683292e-01],\n",
       "       [  1.00000000e+00,   4.36414215e-10],\n",
       "       [  9.62162724e-02,   9.03783728e-01],\n",
       "       [  1.37597074e-06,   9.99998624e-01],\n",
       "       [  9.67525299e-01,   3.24747014e-02],\n",
       "       [  9.64394034e-01,   3.56059662e-02],\n",
       "       [  2.17817786e-01,   7.82182214e-01],\n",
       "       [  9.26695487e-01,   7.33045126e-02],\n",
       "       [  1.52812551e-13,   1.00000000e+00],\n",
       "       [  3.90320124e-03,   9.96096799e-01],\n",
       "       [  9.99466030e-01,   5.33969669e-04],\n",
       "       [  1.00000000e+00,   2.80712421e-10],\n",
       "       [  9.62799426e-01,   3.72005739e-02],\n",
       "       [  9.54598712e-01,   4.54012876e-02],\n",
       "       [  8.24441808e-01,   1.75558192e-01],\n",
       "       [  9.86296262e-01,   1.37037378e-02],\n",
       "       [  5.45773757e-01,   4.54226243e-01],\n",
       "       [  5.58328829e-01,   4.41671171e-01],\n",
       "       [  2.16723138e-01,   7.83276862e-01],\n",
       "       [  9.99604258e-01,   3.95741729e-04],\n",
       "       [  1.47651859e-08,   9.99999985e-01],\n",
       "       [  9.99940082e-01,   5.99175431e-05],\n",
       "       [  9.99996214e-01,   3.78614760e-06],\n",
       "       [  8.63788537e-01,   1.36211463e-01],\n",
       "       [  9.99556796e-01,   4.43203931e-04],\n",
       "       [  3.74127698e-01,   6.25872302e-01],\n",
       "       [  9.88415830e-01,   1.15841702e-02],\n",
       "       [  6.54865703e-01,   3.45134297e-01],\n",
       "       [  9.60582192e-01,   3.94178080e-02],\n",
       "       [  3.41764582e-01,   6.58235418e-01],\n",
       "       [  9.99994460e-01,   5.54000846e-06],\n",
       "       [  9.77043824e-01,   2.29561762e-02],\n",
       "       [  9.17074495e-01,   8.29255048e-02],\n",
       "       [  9.99998601e-01,   1.39856405e-06],\n",
       "       [  5.32618855e-02,   9.46738115e-01],\n",
       "       [  9.99999851e-01,   1.48848561e-07],\n",
       "       [  8.18852480e-01,   1.81147520e-01],\n",
       "       [  9.99609085e-01,   3.90915449e-04],\n",
       "       [  9.99999999e-01,   5.32775620e-10],\n",
       "       [  3.58900680e-01,   6.41099320e-01],\n",
       "       [  9.79924833e-01,   2.00751666e-02],\n",
       "       [  9.00449429e-01,   9.95505715e-02],\n",
       "       [  7.44486829e-13,   1.00000000e+00],\n",
       "       [  9.68761550e-01,   3.12384498e-02],\n",
       "       [  6.38764585e-01,   3.61235415e-01],\n",
       "       [  9.99642046e-01,   3.57954142e-04],\n",
       "       [  7.03355839e-02,   9.29664416e-01],\n",
       "       [  9.99998596e-01,   1.40430173e-06],\n",
       "       [  2.88200714e-23,   1.00000000e+00],\n",
       "       [  9.99952848e-01,   4.71519826e-05],\n",
       "       [  7.91636993e-03,   9.92083630e-01],\n",
       "       [  6.84748310e-01,   3.15251690e-01],\n",
       "       [  9.99981940e-01,   1.80600450e-05],\n",
       "       [  9.99994955e-01,   5.04515060e-06],\n",
       "       [  9.92347938e-01,   7.65206195e-03],\n",
       "       [  9.93200090e-01,   6.79991003e-03],\n",
       "       [  4.27402987e-02,   9.57259701e-01],\n",
       "       [  9.20781338e-01,   7.92186619e-02],\n",
       "       [  9.99999754e-01,   2.46246616e-07],\n",
       "       [  1.24854035e-01,   8.75145965e-01],\n",
       "       [  9.97903389e-01,   2.09661055e-03],\n",
       "       [  9.92480283e-01,   7.51971679e-03],\n",
       "       [  9.99999856e-01,   1.44433541e-07],\n",
       "       [  9.99999999e-01,   1.45520333e-09],\n",
       "       [  9.99874318e-01,   1.25682217e-04],\n",
       "       [  5.05189506e-04,   9.99494810e-01],\n",
       "       [  1.00000000e+00,   3.93073775e-24],\n",
       "       [  1.48012029e-06,   9.99998520e-01],\n",
       "       [  8.33751483e-01,   1.66248517e-01],\n",
       "       [  9.99999419e-01,   5.81212804e-07],\n",
       "       [  4.21391045e-12,   1.00000000e+00],\n",
       "       [  8.93394328e-01,   1.06605672e-01],\n",
       "       [  7.00808807e-01,   2.99191193e-01],\n",
       "       [  4.17347144e-01,   5.82652856e-01],\n",
       "       [  8.85237642e-04,   9.99114762e-01],\n",
       "       [  9.98748130e-01,   1.25187002e-03],\n",
       "       [  9.99995833e-01,   4.16662788e-06],\n",
       "       [  2.56415162e-08,   9.99999974e-01],\n",
       "       [  9.98573075e-01,   1.42692496e-03],\n",
       "       [  1.00000000e+00,   2.06019899e-12],\n",
       "       [  1.00000000e+00,   2.02921882e-13],\n",
       "       [  9.80157879e-01,   1.98421214e-02],\n",
       "       [  9.09029004e-01,   9.09709963e-02],\n",
       "       [  9.99999236e-01,   7.64117858e-07],\n",
       "       [  9.99446787e-01,   5.53213024e-04],\n",
       "       [  9.99928131e-01,   7.18686379e-05],\n",
       "       [  2.66003122e-05,   9.99973400e-01],\n",
       "       [  9.99999778e-01,   2.21981705e-07],\n",
       "       [  8.02524498e-02,   9.19747550e-01],\n",
       "       [  9.92266059e-01,   7.73394145e-03],\n",
       "       [  9.99595894e-01,   4.04105949e-04],\n",
       "       [  3.20642807e-07,   9.99999679e-01],\n",
       "       [  6.65421260e-01,   3.34578740e-01],\n",
       "       [  8.93227453e-01,   1.06772547e-01],\n",
       "       [  7.63151332e-02,   9.23684867e-01],\n",
       "       [  9.93217503e-01,   6.78249675e-03],\n",
       "       [  9.99993395e-01,   6.60547145e-06],\n",
       "       [  9.74284409e-01,   2.57155912e-02],\n",
       "       [  9.05695283e-01,   9.43047167e-02],\n",
       "       [  9.99993791e-01,   6.20879595e-06],\n",
       "       [  5.23471029e-04,   9.99476529e-01],\n",
       "       [  9.99896980e-01,   1.03019656e-04],\n",
       "       [  4.83887152e-01,   5.16112848e-01],\n",
       "       [  9.99859179e-01,   1.40821473e-04],\n",
       "       [  9.98347035e-01,   1.65296482e-03],\n",
       "       [  9.82158052e-01,   1.78419476e-02],\n",
       "       [  4.44394085e-01,   5.55605915e-01],\n",
       "       [  8.94957911e-01,   1.05042089e-01],\n",
       "       [  3.19097354e-08,   9.99999968e-01],\n",
       "       [  4.00514522e-02,   9.59948548e-01],\n",
       "       [  9.95300296e-01,   4.69970426e-03],\n",
       "       [  9.99471611e-01,   5.28389119e-04],\n",
       "       [  8.35602777e-01,   1.64397223e-01],\n",
       "       [  9.85972386e-01,   1.40276145e-02],\n",
       "       [  9.99882687e-01,   1.17313460e-04],\n",
       "       [  5.82147818e-01,   4.17852182e-01],\n",
       "       [  1.48273156e-06,   9.99998517e-01],\n",
       "       [  6.00424411e-05,   9.99939958e-01],\n",
       "       [  9.99584553e-01,   4.15447322e-04],\n",
       "       [  1.53706865e-07,   9.99999846e-01],\n",
       "       [  2.17209835e-01,   7.82790165e-01],\n",
       "       [  5.50423749e-02,   9.44957625e-01],\n",
       "       [  9.99998539e-01,   1.46094634e-06],\n",
       "       [  6.04106693e-01,   3.95893307e-01],\n",
       "       [  4.93722904e-01,   5.06277096e-01],\n",
       "       [  9.47177468e-07,   9.99999053e-01],\n",
       "       [  9.70300593e-01,   2.96994068e-02],\n",
       "       [  9.99978947e-01,   2.10528093e-05],\n",
       "       [  8.27093977e-01,   1.72906023e-01],\n",
       "       [  3.76113628e-03,   9.96238864e-01],\n",
       "       [  1.66303866e-02,   9.83369613e-01],\n",
       "       [  9.83173329e-01,   1.68266715e-02],\n",
       "       [  9.81667441e-01,   1.83325588e-02],\n",
       "       [  1.00000000e+00,   1.32053437e-24],\n",
       "       [  4.43811872e-01,   5.56188128e-01],\n",
       "       [  9.87309471e-01,   1.26905289e-02],\n",
       "       [  6.81505796e-01,   3.18494204e-01],\n",
       "       [  9.98155078e-01,   1.84492241e-03],\n",
       "       [  5.01626904e-01,   4.98373096e-01],\n",
       "       [  1.62591575e-05,   9.99983741e-01],\n",
       "       [  9.99797984e-01,   2.02016263e-04],\n",
       "       [  9.78142062e-01,   2.18579382e-02],\n",
       "       [  9.99999648e-01,   3.51702938e-07],\n",
       "       [  9.94146665e-01,   5.85333502e-03],\n",
       "       [  1.52905942e-03,   9.98470941e-01],\n",
       "       [  1.22327901e-01,   8.77672099e-01],\n",
       "       [  9.94850188e-01,   5.14981158e-03],\n",
       "       [  9.99990147e-01,   9.85287281e-06],\n",
       "       [  8.32841615e-06,   9.99991672e-01],\n",
       "       [  9.99382778e-01,   6.17222439e-04],\n",
       "       [  9.72108102e-01,   2.78918977e-02],\n",
       "       [  1.02768972e-03,   9.98972310e-01],\n",
       "       [  3.88580158e-02,   9.61141984e-01],\n",
       "       [  8.43095949e-01,   1.56904051e-01],\n",
       "       [  3.34403793e-07,   9.99999666e-01],\n",
       "       [  1.42232370e-08,   9.99999986e-01],\n",
       "       [  9.99999466e-01,   5.34458798e-07],\n",
       "       [  3.48793256e-02,   9.65120674e-01],\n",
       "       [  1.21383372e-01,   8.78616628e-01],\n",
       "       [  8.27523978e-01,   1.72476022e-01],\n",
       "       [  1.23925140e-01,   8.76074860e-01],\n",
       "       [  3.02328185e-01,   6.97671815e-01],\n",
       "       [  1.00000000e+00,   1.71340963e-14],\n",
       "       [  1.00000000e+00,   4.83529720e-12],\n",
       "       [  1.97665147e-06,   9.99998023e-01]])"
      ]
     },
     "execution_count": 71,
     "metadata": {},
     "output_type": "execute_result"
    }
   ],
   "source": [
    "y_pred_prob"
   ]
  },
  {
   "cell_type": "code",
   "execution_count": null,
   "metadata": {
    "collapsed": true
   },
   "outputs": [],
   "source": []
  },
  {
   "cell_type": "code",
   "execution_count": null,
   "metadata": {
    "collapsed": true
   },
   "outputs": [],
   "source": []
  },
  {
   "cell_type": "markdown",
   "metadata": {},
   "source": [
    "## Task 6\n",
    "\n",
    "Using either Naive Bayes or logistic regression (whichever one had a better AUC in the previous step), try **tuning CountVectorizer** using some of the techniques we learned in class. Check the testing set **AUC** after each change, and find the set of parameters that increases AUC the most.\n",
    "\n",
    "- **Hint:** It is highly recommended that you adapt the **`tokenize_test()`** function from class for this purpose, since it will allow you to iterate quickly through different sets of parameters."
   ]
  },
  {
   "cell_type": "markdown",
   "metadata": {},
   "source": [
    "## Task 7 (Challenge)\n",
    "\n",
    "The **city** column might be predictive of the response, but we are not currently using it as a feature. Let's see whether we can increase the AUC by adding it to the model:\n",
    "\n",
    "1. Create a new DataFrame column, **review_city**, that concatenates the **review** text with the **city** text. One easy way to combine string columns in pandas is by using the [`Series.str.cat()`](http://pandas.pydata.org/pandas-docs/stable/generated/pandas.Series.str.cat.html) method. Make sure to use the **space character** as a separator, as well as replacing **null city values** with a reasonable string value (such as 'na').\n",
    "2. Redefine X as the **review_city** column, and re-split X and y into training and testing sets.\n",
    "3. When you run **`tokenize_test()`**, CountVectorizer will simply treat the city as an extra word in the review, and thus it will automatically be included in the model! Check to see whether it increased or decreased the AUC of your **best model**."
   ]
  },
  {
   "cell_type": "markdown",
   "metadata": {},
   "source": [
    "## Task 8 (Challenge)\n",
    "\n",
    "The **policies_violated:confidence** column may be useful, since it essentially represents a measurement of the training data quality. Let's see whether we can improve the AUC by only training the model using higher-quality rows!\n",
    "\n",
    "To accomplish this, your first sub-task is to **calculate the mean confidence score for each row**, and then store those mean scores in a new column. For example, the confidence scores for the first row are `1.0\\r\\n0.6667\\r\\n0.6667`, so you should calculate a mean of `0.7778`. Here are the suggested steps:\n",
    "\n",
    "1. Using the [`Series.str.split()`](http://pandas.pydata.org/pandas-docs/stable/generated/pandas.Series.str.split.html) method, convert the **policies_violated:confidence** column into lists of one or more \"confidence scores\". Save the results as a new DataFrame column called **confidence_list**.\n",
    "2. Define a function that calculates the mean of a list of numbers, and pass that function to the [`Series.apply()`](http://pandas.pydata.org/pandas-docs/stable/generated/pandas.Series.apply.html) method of the **confidence_list** column. That will calculate the mean confidence score for each row. Save those scores in a new DataFrame column called **confidence_mean**.\n",
    "    - **Hint:** [How do I apply a function to a pandas Series or DataFrame?](https://www.youtube.com/watch?v=P_q0tkYqvSk&list=PL5-da3qGB5ICCsgW1MxlZ0Hq8LL5U3u9y&index=30) explains how to use the `Series.apply()` method."
   ]
  },
  {
   "cell_type": "markdown",
   "metadata": {},
   "source": [
    "Your second sub-task is to **remove lower-quality rows from the training set**, and then repeat the model building and evaluation process. Here are the suggested steps:\n",
    "\n",
    "1. Remove all rows from X_train and y_train that have a **confidence_mean lower than 0.75**. Check their shapes before and after to confirm that you removed about 300 rows.\n",
    "2. Use the **`tokenize_test()`** function to check whether filtering the training data increased or decreased the AUC of your **best model**.\n",
    "    - **Hint:** Even though X_train and y_train are separate from the mcd DataFrame, they can still be filtered using a boolean Series generated from mcd because all three objects share the same index.\n",
    "    - **Note:** It's important that we don't remove any rows from the testing set (X_test and y_test), because the testing set should be representative of the real-world data we will encounter in the future (which will contain both high-quality and low-quality rows)."
   ]
  },
  {
   "cell_type": "markdown",
   "metadata": {},
   "source": [
    "## Task 9 (Challenge)\n",
    "\n",
    "New comments have been submitted to the McDonald's website, and you need to **score them with the likelihood** that they are referring to rude service.\n",
    "\n",
    "1. Before making predictions on out-of-sample data, it is important to re-train your model on all relevant data using the tuning parameters and preprocessing steps that produced the best AUC above.\n",
    "    - In other words, X should be defined using either **all rows** or **only those rows with a confidence_mean of at least 0.75**, whichever produced a better AUC above.\n",
    "    - X should refer to either the **review column** or the **review_city column**, whichever produced a better AUC above.\n",
    "    - CountVectorizer should be instantiated with the **tuning parameters** that produced the best AUC above.\n",
    "    - **`train_test_split()`** should not be used during this process.\n",
    "2. Build a document-term matrix (from X) called **X_dtm**, and examine its shape.\n",
    "3. Read the new comments stored in **`mcdonalds_new.csv`** into a DataFrame called **new_comments**, and examine it.\n",
    "4. If your model uses a **review_city** column, create that column in the new_comments DataFrame. (Otherwise, skip this step.)\n",
    "5. Build a document_term matrix (from the **new_comments** DataFrame) called **new_dtm**, and examine its shape.\n",
    "6. Train your best model (Naive Bayes or logistic regression) using **X_dtm** and **y**.\n",
    "7. Predict the \"rude probability\" for each comment in **new_dtm**, and store the probabilities in an object called **new_pred_prob**.\n",
    "8. Print the **full text** for each new comment alongside its **\"rude probability\"**. (You may need to [increase the max_colwidth](https://www.youtube.com/watch?v=yiO43TQ4xvc&list=PL5-da3qGB5ICCsgW1MxlZ0Hq8LL5U3u9y&index=28) to see the full text.) Examine the results, and comment on how well you think the model performed!"
   ]
  }
 ],
 "metadata": {
  "kernelspec": {
   "display_name": "Python 2",
   "language": "python",
   "name": "python2"
  },
  "language_info": {
   "codemirror_mode": {
    "name": "ipython",
    "version": 2
   },
   "file_extension": ".py",
   "mimetype": "text/x-python",
   "name": "python",
   "nbconvert_exporter": "python",
   "pygments_lexer": "ipython2",
   "version": "2.7.10"
  }
 },
 "nbformat": 4,
 "nbformat_minor": 0
}
