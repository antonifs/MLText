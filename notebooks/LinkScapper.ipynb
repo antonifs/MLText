{
 "cells": [
  {
   "cell_type": "code",
   "execution_count": 1,
   "metadata": {},
   "outputs": [],
   "source": [
    "import urllib2, re, csv, os, os.path\n",
    "from bs4 import BeautifulSoup"
   ]
  },
  {
   "cell_type": "code",
   "execution_count": 2,
   "metadata": {},
   "outputs": [],
   "source": [
    "# ensure it's a proper link\n",
    "def is_link(ancor):    \n",
    "    return True if ancor.has_attr('href') else False\n",
    "\n",
    "# ensure it's is a local link\n",
    "def is_local_url(url):\n",
    "    return True if re.search(site, a['href']) else False\n",
    "\n",
    "# write to .csv file\n",
    "def create_csv(name, data):\n",
    "    doc = name + '.csv'\n",
    "    with open(doc, 'w') as fp:\n",
    "        a = csv.writer(fp)\n",
    "        a.writerows(data)\n",
    "\n",
    "# check if the .csv file is         \n",
    "def is_completed(name):\n",
    "    doc ='./' + name + '.csv'\n",
    "    if os.path.isfile(doc) and os.stat(doc).st_size > 0:\n",
    "        return True\n",
    "    else:\n",
    "        return False\n",
    "\n",
    "# ensure it's a unique link\n",
    "def is_unique(link, links):\n",
    "    return link in links"
   ]
  },
  {
   "cell_type": "code",
   "execution_count": 3,
   "metadata": {},
   "outputs": [
    {
     "name": "stdout",
     "output_type": "stream",
     "text": [
      "Done\n"
     ]
    }
   ],
   "source": [
    "http = 'http://'\n",
    "\n",
    "# Domain name of the website\n",
    "domain = 'resepkoki.co'\n",
    "site = http + domain\n",
    "\n",
    "# Tag div, p, article, body, etc ...\n",
    "identifier = 'main'\n",
    "\n",
    "request = urllib2.Request(site)\n",
    "response = urllib2.urlopen(request)\n",
    "soup = BeautifulSoup(response, \"html.parser\")\n",
    "\n",
    "# Attribute of the tag identifier, leave it a None if null, otherwise create a dict e.g: att{'class': 'wrapper'} \n",
    "# main = soup.body.find(identifier, attrs={'class': 'wrapper'})\n",
    "main = soup.body.find(identifier)\n",
    "\n",
    "# Grap all of links inside the content\n",
    "urls = []\n",
    "for a in main.findAll('a'):\n",
    "    if is_link(a):\n",
    "        if is_local_url(a['href']):\n",
    "            if is_unique([a['href']], urls) == False:\n",
    "                urls.append([a['href']])\n",
    "            \n",
    "# Save the url into a csv            \n",
    "create_csv(domain, urls)\n",
    "\n",
    "print \"Done\" if is_completed(domain) else \"Failed\""
   ]
  },
  {
   "cell_type": "code",
   "execution_count": null,
   "metadata": {},
   "outputs": [],
   "source": [
    ""
   ]
  }
 ],
 "metadata": {
  "kernelspec": {
   "display_name": "Python 2",
   "language": "python",
   "name": "python2"
  },
  "language_info": {
   "codemirror_mode": {
    "name": "ipython",
    "version": 2.0
   },
   "file_extension": ".py",
   "mimetype": "text/x-python",
   "name": "python",
   "nbconvert_exporter": "python",
   "pygments_lexer": "ipython2",
   "version": "2.7.10"
  }
 },
 "nbformat": 4,
 "nbformat_minor": 0
}