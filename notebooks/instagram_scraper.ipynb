{
 "cells": [
  {
   "cell_type": "code",
   "execution_count": 1,
   "metadata": {
    "collapsed": true
   },
   "outputs": [],
   "source": [
    "import csv, json, os, os.path, re, string, urllib2\n",
    "from bs4 import BeautifulSoup"
   ]
  },
  {
   "cell_type": "code",
   "execution_count": 2,
   "metadata": {
    "collapsed": true
   },
   "outputs": [],
   "source": [
    "# config\n",
    "protocol = 'https://www.'\n",
    "domain = 'instagram.com/'\n",
    "username = 'selenagomez'\n",
    "site = protocol + domain + username\n",
    "\n",
    "# tag identifier of which content will be graped\n",
    "identifier = 'window._sharedData ='"
   ]
  },
  {
   "cell_type": "code",
   "execution_count": 3,
   "metadata": {
    "collapsed": true
   },
   "outputs": [],
   "source": [
    "# Define and get the target\n",
    "def grap_content(site):\n",
    "    request = urllib2.Request(site)\n",
    "    return urllib2.urlopen(request)\n",
    "\n",
    "# Beautiful soup turns your web target into a cup of soup\n",
    "def make_soup(data):\n",
    "    return BeautifulSoup(data, \"html.parser\")\n",
    "\n",
    "def plating(soup):\n",
    "    data = soup.body.findAll('script')\n",
    "    data = str(data).split(identifier)\n",
    "    data = str(data[1]).split(';</script>')\n",
    "    return json.loads(data[0])\n",
    "\n",
    "# Plating the nodes\n",
    "def plating_nodes(soup):\n",
    "    data = plating(soup)\n",
    "    return data['entry_data']['ProfilePage'][0]['user']['media']['nodes']\n",
    "\n",
    "# Plating the user profile\n",
    "def plating_profile(soup):\n",
    "    data = plating(soup)\n",
    "    return data['entry_data']['ProfilePage'][0]['user']"
   ]
  },
  {
   "cell_type": "code",
   "execution_count": 4,
   "metadata": {
    "collapsed": false
   },
   "outputs": [],
   "source": [
    "response = grap_content(site)\n",
    "soup = make_soup(response)\n",
    "nodes = plating_nodes(soup)\n",
    "profile = plating_profile(soup)"
   ]
  },
  {
   "cell_type": "code",
   "execution_count": 5,
   "metadata": {
    "collapsed": false
   },
   "outputs": [
    {
     "name": "stdout",
     "output_type": "stream",
     "text": [
      "BJITJfzgn_P like: 3161513 comments: 883479\n",
      "BJIOXNcAfeJ like: 3781672 comments: 140244\n",
      "BJIGkzOASON like: 2670999 comments: 0\n",
      "BJG3JJgggW1 like: 3002595 comments: 71316\n",
      "BJAS8C1AuYM like: 1911813 comments: 32106\n",
      "BJAS7BsgD0f like: 1945162 comments: 8665\n",
      "BJAS7CfgAZu like: 3172184 comments: 47897\n",
      "BI0LDu-gDcb like: 1971690 comments: 54107\n",
      "BIy3bviAd8E like: 2834543 comments: 50\n",
      "BIy3X5PgMYG like: 3244908 comments: 454\n",
      "BIkm6Ihghva like: 3804309 comments: 89587\n",
      "BIiCu0qAjzR like: 3145007 comments: 47948\n"
     ]
    }
   ],
   "source": [
    "for node in nodes:\n",
    "    print str(node['code']) + \" like: \" + str(node['likes']['count']) + \" comments: \" + str(node['comments']['count'])"
   ]
  },
  {
   "cell_type": "code",
   "execution_count": 6,
   "metadata": {
    "collapsed": false
   },
   "outputs": [
    {
     "data": {
      "text/plain": [
       "{u'caption': u'My entire heart',\n",
       " u'code': u'BJIGkzOASON',\n",
       " u'comments': {u'count': 0},\n",
       " u'comments_disabled': True,\n",
       " u'date': 1471258210,\n",
       " u'dimensions': {u'height': 750, u'width': 750},\n",
       " u'display_src': u'https://scontent-sin6-1.cdninstagram.com/t51.2885-15/e35/13636126_117409118707161_969261513_n.jpg?ig_cache_key=MTMxNzMzMTgwODE4MTg4Nzg4NQ%3D%3D.2',\n",
       " u'id': u'1317331808181887885',\n",
       " u'is_video': False,\n",
       " u'likes': {u'count': 2670999},\n",
       " u'owner': {u'id': u'460563723'},\n",
       " u'thumbnail_src': u'https://scontent-sin6-1.cdninstagram.com/t51.2885-15/s640x640/sh0.08/e35/13636126_117409118707161_969261513_n.jpg?ig_cache_key=MTMxNzMzMTgwODE4MTg4Nzg4NQ%3D%3D.2'}"
      ]
     },
     "execution_count": 6,
     "metadata": {},
     "output_type": "execute_result"
    }
   ],
   "source": [
    "nodes[2]"
   ]
  },
  {
   "cell_type": "code",
   "execution_count": 9,
   "metadata": {
    "collapsed": false
   },
   "outputs": [
    {
     "data": {
      "text/plain": [
       "{u'biography': u'By grace through faith',\n",
       " u'blocked_by_viewer': False,\n",
       " u'country_block': None,\n",
       " u'external_url': u'http://selenagomez.com',\n",
       " u'external_url_linkshimmed': u'http://l.instagram.com/?e=ATN37-WNDEZ7P5cxSsZidj5phqMeeX0J27WYoYZ0AUuMVCyPeiWaU85a\\\\u0026u=http%3A%2F%2Fselenagomez.com%2F',\n",
       " u'followed_by': {u'count': 101442329},\n",
       " u'followed_by_viewer': False,\n",
       " u'follows': {u'count': 252},\n",
       " u'follows_viewer': False,\n",
       " u'full_name': u'Selena Gomez',\n",
       " u'has_blocked_viewer': False,\n",
       " u'has_requested_viewer': False,\n",
       " u'id': u'460563723',\n",
       " u'is_private': False,\n",
       " u'is_verified': True,\n",
       " u'media': {u'count': 1239,\n",
       "  u'nodes': [{u'caption': u'@revivaltour',\n",
       "    u'code': u'BJITJfzgn_P',\n",
       "    u'comments': {u'count': 883479},\n",
       "    u'comments_disabled': False,\n",
       "    u'date': 1471264802,\n",
       "    u'dimensions': {u'height': 750, u'width': 750},\n",
       "    u'display_src': u'https://scontent-sin6-1.cdninstagram.com/t51.2885-15/e35/14052167_1185109048178491_1307504713_n.jpg?ig_cache_key=MTMxNzM4NzEwNjUxNTA1ODYzOQ%3D%3D.2',\n",
       "    u'id': u'1317387106515058639',\n",
       "    u'is_video': False,\n",
       "    u'likes': {u'count': 3161513},\n",
       "    u'owner': {u'id': u'460563723'},\n",
       "    u'thumbnail_src': u'https://scontent-sin6-1.cdninstagram.com/t51.2885-15/s640x640/sh0.08/e35/14052167_1185109048178491_1307504713_n.jpg?ig_cache_key=MTMxNzM4NzEwNjUxNTA1ODYzOQ%3D%3D.2'},\n",
       "   {u'caption': u'One of my favorite nights on tour',\n",
       "    u'code': u'BJIOXNcAfeJ',\n",
       "    u'comments': {u'count': 140244},\n",
       "    u'comments_disabled': False,\n",
       "    u'date': 1471262293,\n",
       "    u'dimensions': {u'height': 750, u'width': 750},\n",
       "    u'display_src': u'https://scontent-sin6-1.cdninstagram.com/t51.2885-15/e35/14027379_745415865600217_1830766871_n.jpg?ig_cache_key=MTMxNzM2NjA1ODYzMzUyNTEyOQ%3D%3D.2',\n",
       "    u'id': u'1317366058633525129',\n",
       "    u'is_video': False,\n",
       "    u'likes': {u'count': 3781672},\n",
       "    u'owner': {u'id': u'460563723'},\n",
       "    u'thumbnail_src': u'https://scontent-sin6-1.cdninstagram.com/t51.2885-15/s640x640/sh0.08/e35/14027379_745415865600217_1830766871_n.jpg?ig_cache_key=MTMxNzM2NjA1ODYzMzUyNTEyOQ%3D%3D.2'},\n",
       "   {u'caption': u'My entire heart',\n",
       "    u'code': u'BJIGkzOASON',\n",
       "    u'comments': {u'count': 0},\n",
       "    u'comments_disabled': True,\n",
       "    u'date': 1471258210,\n",
       "    u'dimensions': {u'height': 750, u'width': 750},\n",
       "    u'display_src': u'https://scontent-sin6-1.cdninstagram.com/t51.2885-15/e35/13636126_117409118707161_969261513_n.jpg?ig_cache_key=MTMxNzMzMTgwODE4MTg4Nzg4NQ%3D%3D.2',\n",
       "    u'id': u'1317331808181887885',\n",
       "    u'is_video': False,\n",
       "    u'likes': {u'count': 2670999},\n",
       "    u'owner': {u'id': u'460563723'},\n",
       "    u'thumbnail_src': u'https://scontent-sin6-1.cdninstagram.com/t51.2885-15/s640x640/sh0.08/e35/13636126_117409118707161_969261513_n.jpg?ig_cache_key=MTMxNzMzMTgwODE4MTg4Nzg4NQ%3D%3D.2'},\n",
       "   {u'caption': u'My whole life. You matter most. Thank you for letting me do what I love every day.',\n",
       "    u'code': u'BJG3JJgggW1',\n",
       "    u'comments': {u'count': 71316},\n",
       "    u'comments_disabled': True,\n",
       "    u'date': 1471216565,\n",
       "    u'dimensions': {u'height': 640, u'width': 640},\n",
       "    u'display_src': u'https://scontent-sin6-1.cdninstagram.com/t51.2885-15/s640x640/sh0.08/e35/13651893_1192638894140536_1711135212_n.jpg?ig_cache_key=MTMxNjk4MjQ2MjI5NDkxODU4MQ%3D%3D.2',\n",
       "    u'id': u'1316982462294918581',\n",
       "    u'is_video': False,\n",
       "    u'likes': {u'count': 3002595},\n",
       "    u'owner': {u'id': u'460563723'},\n",
       "    u'thumbnail_src': u'https://scontent-sin6-1.cdninstagram.com/t51.2885-15/s640x640/sh0.08/e35/13651893_1192638894140536_1711135212_n.jpg?ig_cache_key=MTMxNjk4MjQ2MjI5NDkxODU4MQ%3D%3D.2'},\n",
       "   {u'caption': u\"When my babies take me salsa dancing even when they told me not to because I'm sick... I don't care.\",\n",
       "    u'code': u'BJAS8C1AuYM',\n",
       "    u'comments': {u'count': 32106},\n",
       "    u'comments_disabled': True,\n",
       "    u'date': 1470996257,\n",
       "    u'dimensions': {u'height': 640, u'width': 640},\n",
       "    u'display_src': u'https://scontent-sin6-1.cdninstagram.com/t51.2885-15/s640x640/e15/13643579_266522240399325_1533431959_n.jpg?ig_cache_key=MTMxNTEzNDM4MjIzNDg1NDkyNA%3D%3D.2',\n",
       "    u'id': u'1315134382234854924',\n",
       "    u'is_video': True,\n",
       "    u'likes': {u'count': 1911813},\n",
       "    u'owner': {u'id': u'460563723'},\n",
       "    u'thumbnail_src': u'https://scontent-sin6-1.cdninstagram.com/t51.2885-15/s640x640/e15/13643579_266522240399325_1533431959_n.jpg?ig_cache_key=MTMxNTEzNDM4MjIzNDg1NDkyNA%3D%3D.2',\n",
       "    u'video_views': 15960169},\n",
       "   {u'caption': u'My love @estradamartin and I',\n",
       "    u'code': u'BJAS7BsgD0f',\n",
       "    u'comments': {u'count': 8665},\n",
       "    u'comments_disabled': True,\n",
       "    u'date': 1470996248,\n",
       "    u'dimensions': {u'height': 1080, u'width': 1080},\n",
       "    u'display_src': u'https://scontent-sin6-1.cdninstagram.com/t51.2885-15/e35/13686882_1748837872061061_1085832282_n.jpg?ig_cache_key=MTMxNTEzNDMxMjI5ODg1NTcxMQ%3D%3D.2',\n",
       "    u'id': u'1315134312298855711',\n",
       "    u'is_video': False,\n",
       "    u'likes': {u'count': 1945162},\n",
       "    u'owner': {u'id': u'460563723'},\n",
       "    u'thumbnail_src': u'https://scontent-sin6-1.cdninstagram.com/t51.2885-15/s640x640/sh0.08/e35/13686882_1748837872061061_1085832282_n.jpg?ig_cache_key=MTMxNTEzNDMxMjI5ODg1NTcxMQ%3D%3D.2'},\n",
       "   {u'caption': u'Nobody loves me like you do \\\\ud83d\\\\ude4f\\\\ud83c\\\\udffd',\n",
       "    u'code': u'BJAS7CfgAZu',\n",
       "    u'comments': {u'count': 47897},\n",
       "    u'comments_disabled': False,\n",
       "    u'date': 1470996248,\n",
       "    u'dimensions': {u'height': 1080, u'width': 1080},\n",
       "    u'display_src': u'https://scontent-sin6-1.cdninstagram.com/t51.2885-15/e35/13686876_864713720330398_810862158_n.jpg?ig_cache_key=MTMxNTEzNDMxMzE1NDQ3OTcyNg%3D%3D.2',\n",
       "    u'id': u'1315134313154479726',\n",
       "    u'is_video': False,\n",
       "    u'likes': {u'count': 3172184},\n",
       "    u'owner': {u'id': u'460563723'},\n",
       "    u'thumbnail_src': u'https://scontent-sin6-1.cdninstagram.com/t51.2885-15/s640x640/sh0.08/e35/13686876_864713720330398_810862158_n.jpg?ig_cache_key=MTMxNTEzNDMxMzE1NDQ3OTcyNg%3D%3D.2'},\n",
       "   {u'caption': u'Love my Elie. Everyday we do a little catchup/cuddle sesh',\n",
       "    u'code': u'BI0LDu-gDcb',\n",
       "    u'comments': {u'count': 54107},\n",
       "    u'comments_disabled': True,\n",
       "    u'date': 1470589472,\n",
       "    u'dimensions': {u'height': 763, u'width': 612},\n",
       "    u'display_src': u'https://scontent-sin6-1.cdninstagram.com/t51.2885-15/e15/13774417_642118775954363_1940621538_n.jpg?ig_cache_key=MTMxMTcyMjAyNjU4MjQyMzMyMw%3D%3D.2',\n",
       "    u'id': u'1311722026582423323',\n",
       "    u'is_video': True,\n",
       "    u'likes': {u'count': 1971690},\n",
       "    u'owner': {u'id': u'460563723'},\n",
       "    u'thumbnail_src': u'https://scontent-sin6-1.cdninstagram.com/t51.2885-15/e15/c0.75.612.612/13774417_642118775954363_1940621538_n.jpg?ig_cache_key=MTMxMTcyMjAyNjU4MjQyMzMyMw%3D%3D.2.c',\n",
       "    u'video_views': 15810653},\n",
       "   {u'caption': u'@vogueaustralia \\\\ud83d\\\\udc9c in @louisvuitton @nicolasghesquiere',\n",
       "    u'code': u'BIy3bviAd8E',\n",
       "    u'comments': {u'count': 50},\n",
       "    u'comments_disabled': True,\n",
       "    u'date': 1470545629,\n",
       "    u'dimensions': {u'height': 1349, u'width': 1080},\n",
       "    u'display_src': u'https://scontent-sin6-1.cdninstagram.com/t51.2885-15/e35/13744171_1044599012276585_130265117_n.jpg?ig_cache_key=MTMxMTM1NDI0MDUzODYzMTk0MA%3D%3D.2',\n",
       "    u'id': u'1311354240538631940',\n",
       "    u'is_video': False,\n",
       "    u'likes': {u'count': 2834543},\n",
       "    u'owner': {u'id': u'460563723'},\n",
       "    u'thumbnail_src': u'https://scontent-sin6-1.cdninstagram.com/t51.2885-15/s640x640/sh0.08/e35/c0.134.1080.1080/13744171_1044599012276585_130265117_n.jpg?ig_cache_key=MTMxMTM1NDI0MDUzODYzMTk0MA%3D%3D.2.c'},\n",
       "   {u'caption': u'My first @vogueaustralia cover came out -thank you so much! So grateful',\n",
       "    u'code': u'BIy3X5PgMYG',\n",
       "    u'comments': {u'count': 454},\n",
       "    u'comments_disabled': True,\n",
       "    u'date': 1470545597,\n",
       "    u'dimensions': {u'height': 1349, u'width': 1080},\n",
       "    u'display_src': u'https://scontent-sin6-1.cdninstagram.com/t51.2885-15/e35/13743135_281513475545096_15885087_n.jpg?ig_cache_key=MTMxMTM1Mzk3NjA4NzY5MjgwNg%3D%3D.2',\n",
       "    u'id': u'1311353976087692806',\n",
       "    u'is_video': False,\n",
       "    u'likes': {u'count': 3244908},\n",
       "    u'owner': {u'id': u'460563723'},\n",
       "    u'thumbnail_src': u'https://scontent-sin6-1.cdninstagram.com/t51.2885-15/s640x640/sh0.08/e35/c0.134.1080.1080/13743135_281513475545096_15885087_n.jpg?ig_cache_key=MTMxMTM1Mzk3NjA4NzY5MjgwNg%3D%3D.2.c'},\n",
       "   {u'caption': u'Japan',\n",
       "    u'code': u'BIkm6Ihghva',\n",
       "    u'comments': {u'count': 89587},\n",
       "    u'comments_disabled': True,\n",
       "    u'date': 1470067203,\n",
       "    u'dimensions': {u'height': 921, u'width': 750},\n",
       "    u'display_src': u'https://scontent-sin6-1.cdninstagram.com/t51.2885-15/sh0.08/e35/p750x750/13743464_1575391166088696_773969894_n.jpg?ig_cache_key=MTMwNzM0MDkxMjQ5MzQ2ODYzNA%3D%3D.2',\n",
       "    u'id': u'1307340912493468634',\n",
       "    u'is_video': False,\n",
       "    u'likes': {u'count': 3804309},\n",
       "    u'owner': {u'id': u'460563723'},\n",
       "    u'thumbnail_src': u'https://scontent-sin6-1.cdninstagram.com/t51.2885-15/s640x640/sh0.08/e35/c0.105.922.922/13743464_1575391166088696_773969894_n.jpg?ig_cache_key=MTMwNzM0MDkxMjQ5MzQ2ODYzNA%3D%3D.2.c'},\n",
       "   {u'caption': u\"My sweet, hilarious and crazy soul @tmarie247 my life completely changed when I met you. Thank you for putting up with me. You're for LIFE. I love you more than you hate affection. Happy bday\",\n",
       "    u'code': u'BIiCu0qAjzR',\n",
       "    u'comments': {u'count': 47948},\n",
       "    u'comments_disabled': True,\n",
       "    u'date': 1469981127,\n",
       "    u'dimensions': {u'height': 810, u'width': 1080},\n",
       "    u'display_src': u'https://scontent-sin6-1.cdninstagram.com/t51.2885-15/e35/13734463_174687606278494_1475866468_n.jpg?ig_cache_key=MTMwNjYxODg1NTYxOTE4MTc3Nw%3D%3D.2',\n",
       "    u'id': u'1306618855619181777',\n",
       "    u'is_video': False,\n",
       "    u'likes': {u'count': 3145007},\n",
       "    u'owner': {u'id': u'460563723'},\n",
       "    u'thumbnail_src': u'https://scontent-sin6-1.cdninstagram.com/t51.2885-15/s640x640/sh0.08/e35/c135.0.810.810/13734463_174687606278494_1475866468_n.jpg?ig_cache_key=MTMwNjYxODg1NTYxOTE4MTc3Nw%3D%3D.2.c'}],\n",
       "  u'page_info': {u'end_cursor': u'1306618855619181777',\n",
       "   u'has_next_page': True,\n",
       "   u'has_previous_page': False,\n",
       "   u'start_cursor': u'1317387106515058639'}},\n",
       " u'profile_pic_url': u'https://scontent-sin6-1.cdninstagram.com/t51.2885-19/s150x150/12918537_1719366751611008_1708400518_a.jpg',\n",
       " u'profile_pic_url_hd': u'https://scontent-sin6-1.cdninstagram.com/t51.2885-19/s320x320/12918537_1719366751611008_1708400518_a.jpg',\n",
       " u'requested_by_viewer': False,\n",
       " u'username': u'selenagomez'}"
      ]
     },
     "execution_count": 9,
     "metadata": {},
     "output_type": "execute_result"
    }
   ],
   "source": [
    "profile"
   ]
  },
  {
   "cell_type": "code",
   "execution_count": 13,
   "metadata": {
    "collapsed": false
   },
   "outputs": [
    {
     "name": "stdout",
     "output_type": "stream",
     "text": [
      "Selena Gomez\n",
      "460563723\n",
      "http://selenagomez.com\n",
      "1239\n",
      "101442329\n",
      "252\n"
     ]
    }
   ],
   "source": [
    "print profile['full_name']\n",
    "print profile['id']\n",
    "print profile['external_url']\n",
    "print profile['media']['count']\n",
    "print str(profile['followed_by']['count'])\n",
    "print str(profile['follows']['count'])"
   ]
  },
  {
   "cell_type": "code",
   "execution_count": null,
   "metadata": {
    "collapsed": true
   },
   "outputs": [],
   "source": []
  }
 ],
 "metadata": {
  "kernelspec": {
   "display_name": "Python 2",
   "language": "python",
   "name": "python2"
  },
  "language_info": {
   "codemirror_mode": {
    "name": "ipython",
    "version": 2
   },
   "file_extension": ".py",
   "mimetype": "text/x-python",
   "name": "python",
   "nbconvert_exporter": "python",
   "pygments_lexer": "ipython2",
   "version": "2.7.10"
  }
 },
 "nbformat": 4,
 "nbformat_minor": 0
}
