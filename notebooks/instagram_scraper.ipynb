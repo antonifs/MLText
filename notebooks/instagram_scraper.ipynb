{
 "cells": [
  {
   "cell_type": "code",
   "execution_count": 1,
   "metadata": {
    "collapsed": true
   },
   "outputs": [],
   "source": [
    "import urllib2, re, csv, os, os.path\n",
    "from bs4 import BeautifulSoup"
   ]
  },
  {
   "cell_type": "code",
   "execution_count": 2,
   "metadata": {
    "collapsed": true
   },
   "outputs": [],
   "source": [
    "# write to .csv file\n",
    "def create_csv(name, data):\n",
    "    doc = name + '.csv'\n",
    "    with open(doc, 'w') as fp:\n",
    "        a = csv.writer(fp)\n",
    "        a.writerows(data)\n",
    "\n",
    "# check if the .csv file is         \n",
    "def is_completed(name):\n",
    "    doc ='./' + name + '.csv'\n",
    "    if os.path.isfile(doc) and os.stat(doc).st_size > 0:\n",
    "        return True\n",
    "    else:\n",
    "        return False\n",
    "    \n",
    "# def scrape(username):\n",
    "#     request = urllib2.Request(site)\n",
    "#     response = urllib2.urlopen(request)\n",
    "#     soup = BeautifulSoup(response, \"html.parser\")\n",
    "    \n",
    "# function scrape_insta($username) {\n",
    "# \t$insta_source = file_get_contents('http://instagram.com/'.$username);\n",
    "# \t$shards = explode('window._sharedData = ', $insta_source);\n",
    "# \t$insta_json = explode(';</script>', $shards[1]); \n",
    "# \t$insta_array = json_decode($insta_json[0], TRUE);\n",
    "# \treturn $insta_array;\n",
    "# }    "
   ]
  },
  {
   "cell_type": "code",
   "execution_count": 3,
   "metadata": {
    "collapsed": false
   },
   "outputs": [],
   "source": [
    "import json\n",
    "protocol = 'https://www.'\n",
    "\n",
    "# Domain name of the website\n",
    "domain = 'instagram.com/selenagomez'\n",
    "site = protocol + domain\n",
    "\n",
    "identifier = 'window._sharedData ='\n",
    "\n",
    "request = urllib2.Request(site)\n",
    "response = urllib2.urlopen(request)\n",
    "soup = BeautifulSoup(response, \"html.parser\")\n",
    "\n",
    "# # Attribute of the tag identifier, leave it a None if null, otherwise create a dict e.g: att{'class': 'wrapper'} \n",
    "# # main = soup.body.find(identifier, attrs={'class': 'wrapper'})\n",
    "# main = soup.body.find(identifier)\n",
    "\n",
    "# print main\n",
    "\n",
    "# # Grap all of links inside the content\n",
    "# urls = []\n",
    "# for a in main.findAll('a'):\n",
    "#     if is_link(a):\n",
    "#         if is_local_url(a['href']):\n",
    "#             if is_unique([a['href']], urls) == False:\n",
    "#                 urls.append([a['href']])\n",
    "            \n",
    "# # Save the url into a csv            \n",
    "# create_csv(domain, urls)\n",
    "\n",
    "# print \"Done\" if is_completed(domain) else \"Failed\""
   ]
  },
  {
   "cell_type": "code",
   "execution_count": 4,
   "metadata": {
    "collapsed": false
   },
   "outputs": [],
   "source": [
    "body = soup.body"
   ]
  },
  {
   "cell_type": "code",
   "execution_count": 5,
   "metadata": {
    "collapsed": true
   },
   "outputs": [],
   "source": [
    "data = body.findAll('script')"
   ]
  },
  {
   "cell_type": "code",
   "execution_count": 6,
   "metadata": {
    "collapsed": false
   },
   "outputs": [],
   "source": [
    "import string"
   ]
  },
  {
   "cell_type": "code",
   "execution_count": 7,
   "metadata": {
    "collapsed": false
   },
   "outputs": [],
   "source": [
    "data = str(data).split(identifier)"
   ]
  },
  {
   "cell_type": "code",
   "execution_count": 8,
   "metadata": {
    "collapsed": false
   },
   "outputs": [
    {
     "data": {
      "text/plain": [
       "'[<script src=\"//instagramstatic-a.akamaihd.net/h1/scripts/polyfills/es5-shim.min.js/6514c5e08593.js\"></script>, <script src=\"//instagramstatic-a.akamaihd.net/h1/scripts/polyfills/es5-sham.min.js/fc3c22cf2d67.js\"></script>, <script type=\"text/javascript\">'"
      ]
     },
     "execution_count": 8,
     "metadata": {},
     "output_type": "execute_result"
    }
   ],
   "source": [
    "data[0]\n",
    "# data = str(data[1]).split(';</script>')"
   ]
  },
  {
   "cell_type": "code",
   "execution_count": 9,
   "metadata": {
    "collapsed": false
   },
   "outputs": [
    {
     "data": {
      "text/plain": [
       "' {\"country_code\": \"ID\", \"language_code\": \"en\", \"gatekeepers\": {\"cc\": true}, \"show_app_install\": true, \"static_root\": \"//instagramstatic-a.akamaihd.net/h1\", \"platform\": \"web\", \"hostname\": \"www.instagram.com\", \"entry_data\": {\"ProfilePage\": [{\"user\": {\"username\": \"selenagomez\", \"follows\": {\"count\": 252}, \"requested_by_viewer\": false, \"followed_by\": {\"count\": 101429458}, \"external_url_linkshimmed\": \"http://l.instagram.com/?e=ATPsO2UYHS5D9GTuUAg03mVYb8Ud8FqBrlRc3Lp7Ugtyv7nC8qZxfQgN\\\\\\\\u0026u=http%3A%2F%2Fselenagomez.com%2F\", \"has_requested_viewer\": false, \"country_block\": null, \"follows_viewer\": false, \"profile_pic_url_hd\": \"https://scontent-sin6-1.cdninstagram.com/t51.2885-19/s320x320/12918537_1719366751611008_1708400518_a.jpg\", \"profile_pic_url\": \"https://scontent-sin6-1.cdninstagram.com/t51.2885-19/s150x150/12918537_1719366751611008_1708400518_a.jpg\", \"id\": \"460563723\", \"biography\": \"By grace through faith\", \"full_name\": \"Selena Gomez\", \"media\": {\"count\": 1239, \"page_info\": {\"has_previous_page\": false, \"start_cursor\": \"1317387106515058639\", \"end_cursor\": \"1306618855619181777\", \"has_next_page\": true}, \"nodes\": [{\"code\": \"BJITJfzgn_P\", \"date\": 1471264802, \"dimensions\": {\"width\": 750, \"height\": 750}, \"comments_disabled\": false, \"comments\": {\"count\": 882607}, \"caption\": \"@revivaltour\", \"likes\": {\"count\": 3160015}, \"owner\": {\"id\": \"460563723\"}, \"thumbnail_src\": \"https://scontent-sin6-1.cdninstagram.com/t51.2885-15/s640x640/sh0.08/e35/14052167_1185109048178491_1307504713_n.jpg?ig_cache_key=MTMxNzM4NzEwNjUxNTA1ODYzOQ%3D%3D.2\", \"is_video\": false, \"id\": \"1317387106515058639\", \"display_src\": \"https://scontent-sin6-1.cdninstagram.com/t51.2885-15/e35/14052167_1185109048178491_1307504713_n.jpg?ig_cache_key=MTMxNzM4NzEwNjUxNTA1ODYzOQ%3D%3D.2\"}, {\"code\": \"BJIOXNcAfeJ\", \"date\": 1471262293, \"dimensions\": {\"width\": 750, \"height\": 750}, \"comments_disabled\": false, \"comments\": {\"count\": 140127}, \"caption\": \"One of my favorite nights on tour\", \"likes\": {\"count\": 3780190}, \"owner\": {\"id\": \"460563723\"}, \"thumbnail_src\": \"https://scontent-sin6-1.cdninstagram.com/t51.2885-15/s640x640/sh0.08/e35/14027379_745415865600217_1830766871_n.jpg?ig_cache_key=MTMxNzM2NjA1ODYzMzUyNTEyOQ%3D%3D.2\", \"is_video\": false, \"id\": \"1317366058633525129\", \"display_src\": \"https://scontent-sin6-1.cdninstagram.com/t51.2885-15/e35/14027379_745415865600217_1830766871_n.jpg?ig_cache_key=MTMxNzM2NjA1ODYzMzUyNTEyOQ%3D%3D.2\"}, {\"code\": \"BJIGkzOASON\", \"date\": 1471258210, \"dimensions\": {\"width\": 750, \"height\": 750}, \"comments_disabled\": true, \"comments\": {\"count\": 0}, \"caption\": \"My entire heart\", \"likes\": {\"count\": 2670261}, \"owner\": {\"id\": \"460563723\"}, \"thumbnail_src\": \"https://scontent-sin6-1.cdninstagram.com/t51.2885-15/s640x640/sh0.08/e35/13636126_117409118707161_969261513_n.jpg?ig_cache_key=MTMxNzMzMTgwODE4MTg4Nzg4NQ%3D%3D.2\", \"is_video\": false, \"id\": \"1317331808181887885\", \"display_src\": \"https://scontent-sin6-1.cdninstagram.com/t51.2885-15/e35/13636126_117409118707161_969261513_n.jpg?ig_cache_key=MTMxNzMzMTgwODE4MTg4Nzg4NQ%3D%3D.2\"}, {\"code\": \"BJG3JJgggW1\", \"date\": 1471216565, \"dimensions\": {\"width\": 640, \"height\": 640}, \"comments_disabled\": true, \"comments\": {\"count\": 71316}, \"caption\": \"My whole life. You matter most. Thank you for letting me do what I love every day.\", \"likes\": {\"count\": 3002036}, \"owner\": {\"id\": \"460563723\"}, \"thumbnail_src\": \"https://scontent-sin6-1.cdninstagram.com/t51.2885-15/s640x640/sh0.08/e35/13651893_1192638894140536_1711135212_n.jpg?ig_cache_key=MTMxNjk4MjQ2MjI5NDkxODU4MQ%3D%3D.2\", \"is_video\": false, \"id\": \"1316982462294918581\", \"display_src\": \"https://scontent-sin6-1.cdninstagram.com/t51.2885-15/s640x640/sh0.08/e35/13651893_1192638894140536_1711135212_n.jpg?ig_cache_key=MTMxNjk4MjQ2MjI5NDkxODU4MQ%3D%3D.2\"}, {\"code\": \"BJAS8C1AuYM\", \"date\": 1470996257, \"dimensions\": {\"width\": 640, \"height\": 640}, \"comments_disabled\": true, \"comments\": {\"count\": 32106}, \"caption\": \"When my babies take me salsa dancing even when they told me not to because I\\'m sick... I don\\'t care.\", \"likes\": {\"count\": 1911341}, \"owner\": {\"id\": \"460563723\"}, \"thumbnail_src\": \"https://scontent-sin6-1.cdninstagram.com/t51.2885-15/s640x640/e15/13643579_266522240399325_1533431959_n.jpg?ig_cache_key=MTMxNTEzNDM4MjIzNDg1NDkyNA%3D%3D.2\", \"is_video\": true, \"id\": \"1315134382234854924\", \"display_src\": \"https://scontent-sin6-1.cdninstagram.com/t51.2885-15/s640x640/e15/13643579_266522240399325_1533431959_n.jpg?ig_cache_key=MTMxNTEzNDM4MjIzNDg1NDkyNA%3D%3D.2\", \"video_views\": 15951031}, {\"code\": \"BJAS7BsgD0f\", \"date\": 1470996248, \"dimensions\": {\"width\": 1080, \"height\": 1080}, \"comments_disabled\": true, \"comments\": {\"count\": 8665}, \"caption\": \"My love @estradamartin and I\", \"likes\": {\"count\": 1944808}, \"owner\": {\"id\": \"460563723\"}, \"thumbnail_src\": \"https://scontent-sin6-1.cdninstagram.com/t51.2885-15/s640x640/sh0.08/e35/13686882_1748837872061061_1085832282_n.jpg?ig_cache_key=MTMxNTEzNDMxMjI5ODg1NTcxMQ%3D%3D.2\", \"is_video\": false, \"id\": \"1315134312298855711\", \"display_src\": \"https://scontent-sin6-1.cdninstagram.com/t51.2885-15/e35/13686882_1748837872061061_1085832282_n.jpg?ig_cache_key=MTMxNTEzNDMxMjI5ODg1NTcxMQ%3D%3D.2\"}, {\"code\": \"BJAS7CfgAZu\", \"date\": 1470996248, \"dimensions\": {\"width\": 1080, \"height\": 1080}, \"comments_disabled\": false, \"comments\": {\"count\": 47862}, \"caption\": \"Nobody loves me like you do \\\\\\\\ud83d\\\\\\\\ude4f\\\\\\\\ud83c\\\\\\\\udffd\", \"likes\": {\"count\": 3171734}, \"owner\": {\"id\": \"460563723\"}, \"thumbnail_src\": \"https://scontent-sin6-1.cdninstagram.com/t51.2885-15/s640x640/sh0.08/e35/13686876_864713720330398_810862158_n.jpg?ig_cache_key=MTMxNTEzNDMxMzE1NDQ3OTcyNg%3D%3D.2\", \"is_video\": false, \"id\": \"1315134313154479726\", \"display_src\": \"https://scontent-sin6-1.cdninstagram.com/t51.2885-15/e35/13686876_864713720330398_810862158_n.jpg?ig_cache_key=MTMxNTEzNDMxMzE1NDQ3OTcyNg%3D%3D.2\"}, {\"code\": \"BI0LDu-gDcb\", \"date\": 1470589472, \"dimensions\": {\"width\": 612, \"height\": 763}, \"comments_disabled\": true, \"comments\": {\"count\": 54107}, \"caption\": \"Love my Elie. Everyday we do a little catchup/cuddle sesh\", \"likes\": {\"count\": 1971367}, \"owner\": {\"id\": \"460563723\"}, \"thumbnail_src\": \"https://scontent-sin6-1.cdninstagram.com/t51.2885-15/e15/c0.75.612.612/13774417_642118775954363_1940621538_n.jpg?ig_cache_key=MTMxMTcyMjAyNjU4MjQyMzMyMw%3D%3D.2.c\", \"is_video\": true, \"id\": \"1311722026582423323\", \"display_src\": \"https://scontent-sin6-1.cdninstagram.com/t51.2885-15/e15/13774417_642118775954363_1940621538_n.jpg?ig_cache_key=MTMxMTcyMjAyNjU4MjQyMzMyMw%3D%3D.2\", \"video_views\": 15801945}, {\"code\": \"BIy3bviAd8E\", \"date\": 1470545629, \"dimensions\": {\"width\": 1080, \"height\": 1349}, \"comments_disabled\": true, \"comments\": {\"count\": 50}, \"caption\": \"@vogueaustralia \\\\\\\\ud83d\\\\\\\\udc9c in @louisvuitton @nicolasghesquiere\", \"likes\": {\"count\": 2834267}, \"owner\": {\"id\": \"460563723\"}, \"thumbnail_src\": \"https://scontent-sin6-1.cdninstagram.com/t51.2885-15/s640x640/sh0.08/e35/c0.134.1080.1080/13744171_1044599012276585_130265117_n.jpg?ig_cache_key=MTMxMTM1NDI0MDUzODYzMTk0MA%3D%3D.2.c\", \"is_video\": false, \"id\": \"1311354240538631940\", \"display_src\": \"https://scontent-sin6-1.cdninstagram.com/t51.2885-15/e35/13744171_1044599012276585_130265117_n.jpg?ig_cache_key=MTMxMTM1NDI0MDUzODYzMTk0MA%3D%3D.2\"}, {\"code\": \"BIy3X5PgMYG\", \"date\": 1470545597, \"dimensions\": {\"width\": 1080, \"height\": 1349}, \"comments_disabled\": true, \"comments\": {\"count\": 454}, \"caption\": \"My first @vogueaustralia cover came out -thank you so much! So grateful\", \"likes\": {\"count\": 3244475}, \"owner\": {\"id\": \"460563723\"}, \"thumbnail_src\": \"https://scontent-sin6-1.cdninstagram.com/t51.2885-15/s640x640/sh0.08/e35/c0.134.1080.1080/13743135_281513475545096_15885087_n.jpg?ig_cache_key=MTMxMTM1Mzk3NjA4NzY5MjgwNg%3D%3D.2.c\", \"is_video\": false, \"id\": \"1311353976087692806\", \"display_src\": \"https://scontent-sin6-1.cdninstagram.com/t51.2885-15/e35/13743135_281513475545096_15885087_n.jpg?ig_cache_key=MTMxMTM1Mzk3NjA4NzY5MjgwNg%3D%3D.2\"}, {\"code\": \"BIkm6Ihghva\", \"date\": 1470067203, \"dimensions\": {\"width\": 750, \"height\": 921}, \"comments_disabled\": true, \"comments\": {\"count\": 89587}, \"caption\": \"Japan\", \"likes\": {\"count\": 3803867}, \"owner\": {\"id\": \"460563723\"}, \"thumbnail_src\": \"https://scontent-sin6-1.cdninstagram.com/t51.2885-15/s640x640/sh0.08/e35/c0.105.922.922/13743464_1575391166088696_773969894_n.jpg?ig_cache_key=MTMwNzM0MDkxMjQ5MzQ2ODYzNA%3D%3D.2.c\", \"is_video\": false, \"id\": \"1307340912493468634\", \"display_src\": \"https://scontent-sin6-1.cdninstagram.com/t51.2885-15/sh0.08/e35/p750x750/13743464_1575391166088696_773969894_n.jpg?ig_cache_key=MTMwNzM0MDkxMjQ5MzQ2ODYzNA%3D%3D.2\"}, {\"code\": \"BIiCu0qAjzR\", \"date\": 1469981127, \"dimensions\": {\"width\": 1080, \"height\": 810}, \"comments_disabled\": true, \"comments\": {\"count\": 47948}, \"caption\": \"My sweet, hilarious and crazy soul @tmarie247 my life completely changed when I met you. Thank you for putting up with me. You\\'re for LIFE. I love you more than you hate affection. Happy bday\", \"likes\": {\"count\": 3144733}, \"owner\": {\"id\": \"460563723\"}, \"thumbnail_src\": \"https://scontent-sin6-1.cdninstagram.com/t51.2885-15/s640x640/sh0.08/e35/c135.0.810.810/13734463_174687606278494_1475866468_n.jpg?ig_cache_key=MTMwNjYxODg1NTYxOTE4MTc3Nw%3D%3D.2.c\", \"is_video\": false, \"id\": \"1306618855619181777\", \"display_src\": \"https://scontent-sin6-1.cdninstagram.com/t51.2885-15/e35/13734463_174687606278494_1475866468_n.jpg?ig_cache_key=MTMwNjYxODg1NTYxOTE4MTc3Nw%3D%3D.2\"}]}, \"blocked_by_viewer\": false, \"followed_by_viewer\": false, \"is_verified\": true, \"has_blocked_viewer\": false, \"is_private\": false, \"external_url\": \"http://selenagomez.com\"}}]}, \"qe\": {\"profile\": {\"p\": {}, \"g\": \"\"}, \"su_universe\": {\"p\": {}, \"g\": \"\"}, \"us\": {\"p\": {\"display_reg_on_pill\": \"true\"}, \"g\": \"logged_out_mobile_pill_upsell_test_02\"}, \"su\": {\"p\": {\"enabled\": \"true\"}, \"g\": \"test_20160322\"}, \"freq\": {\"p\": {}, \"g\": \"\"}, \"us_li\": {\"p\": {}, \"g\": \"\"}, \"discovery\": {\"p\": {}, \"g\": \"\"}}, \"display_properties_server_guess\": {\"viewport_width\": 360, \"pixel_ratio\": 1.5}, \"config\": {\"viewer\": null, \"csrf_token\": \"kylrWpxlS6z5vXsPhfUK02gd9hUcVCz6\"}, \"environment_switcher_visible_server_guess\": true};</script>, <script crossorigin=\"anonymous\" src=\"//instagramstatic-a.akamaihd.net/h1/bundles/en_US_Commons.js/4ca6dcad6f43.js\" type=\"text/javascript\"></script>, <script crossorigin=\"anonymous\" src=\"//instagramstatic-a.akamaihd.net/h1/bundles/en_US_ProfilePage.js/2e4f16bcafcd.js\" type=\"text/javascript\"></script>, <script>\\\\n!function(f,b,e,v,n,t,s){if(f.fbq)return;n=f.fbq=function(){n.callMethod?\\\\nn.callMethod.apply(n,arguments):n.queue.push(arguments)};if(!f._fbq)f._fbq=n;\\\\nn.push=n;n.loaded=!0;n.version=\\'2.0\\';n.queue=[];t=b.createElement(e);t.async=!0;\\\\nt.src=v;s=b.getElementsByTagName(e)[0];s.parentNode.insertBefore(t,s)}(window,\\\\ndocument,\\'script\\',\\'//connect.facebook.net/en_US/fbevents.js\\');\\\\n\\\\nfbq(\\'init\\', \\'1425767024389221\\');\\\\n\\\\nfbq(\\'track\\', \\'PageView\\');\\\\n\\\\n\\\\n</script>, <script type=\"text/javascript\">window._timings.domInteractive = Date.now()</script>]'"
      ]
     },
     "execution_count": 9,
     "metadata": {},
     "output_type": "execute_result"
    }
   ],
   "source": [
    "data[1]\n",
    "# d = json.loads(j)"
   ]
  },
  {
   "cell_type": "code",
   "execution_count": 11,
   "metadata": {
    "collapsed": false
   },
   "outputs": [
    {
     "data": {
      "text/plain": [
       "' {\"country_code\": \"ID\", \"language_code\": \"en\", \"gatekeepers\": {\"cc\": true}, \"show_app_install\": true, \"static_root\": \"//instagramstatic-a.akamaihd.net/h1\", \"platform\": \"web\", \"hostname\": \"www.instagram.com\", \"entry_data\": {\"ProfilePage\": [{\"user\": {\"username\": \"selenagomez\", \"follows\": {\"count\": 252}, \"requested_by_viewer\": false, \"followed_by\": {\"count\": 101429458}, \"external_url_linkshimmed\": \"http://l.instagram.com/?e=ATPsO2UYHS5D9GTuUAg03mVYb8Ud8FqBrlRc3Lp7Ugtyv7nC8qZxfQgN\\\\\\\\u0026u=http%3A%2F%2Fselenagomez.com%2F\", \"has_requested_viewer\": false, \"country_block\": null, \"follows_viewer\": false, \"profile_pic_url_hd\": \"https://scontent-sin6-1.cdninstagram.com/t51.2885-19/s320x320/12918537_1719366751611008_1708400518_a.jpg\", \"profile_pic_url\": \"https://scontent-sin6-1.cdninstagram.com/t51.2885-19/s150x150/12918537_1719366751611008_1708400518_a.jpg\", \"id\": \"460563723\", \"biography\": \"By grace through faith\", \"full_name\": \"Selena Gomez\", \"media\": {\"count\": 1239, \"page_info\": {\"has_previous_page\": false, \"start_cursor\": \"1317387106515058639\", \"end_cursor\": \"1306618855619181777\", \"has_next_page\": true}, \"nodes\": [{\"code\": \"BJITJfzgn_P\", \"date\": 1471264802, \"dimensions\": {\"width\": 750, \"height\": 750}, \"comments_disabled\": false, \"comments\": {\"count\": 882607}, \"caption\": \"@revivaltour\", \"likes\": {\"count\": 3160015}, \"owner\": {\"id\": \"460563723\"}, \"thumbnail_src\": \"https://scontent-sin6-1.cdninstagram.com/t51.2885-15/s640x640/sh0.08/e35/14052167_1185109048178491_1307504713_n.jpg?ig_cache_key=MTMxNzM4NzEwNjUxNTA1ODYzOQ%3D%3D.2\", \"is_video\": false, \"id\": \"1317387106515058639\", \"display_src\": \"https://scontent-sin6-1.cdninstagram.com/t51.2885-15/e35/14052167_1185109048178491_1307504713_n.jpg?ig_cache_key=MTMxNzM4NzEwNjUxNTA1ODYzOQ%3D%3D.2\"}, {\"code\": \"BJIOXNcAfeJ\", \"date\": 1471262293, \"dimensions\": {\"width\": 750, \"height\": 750}, \"comments_disabled\": false, \"comments\": {\"count\": 140127}, \"caption\": \"One of my favorite nights on tour\", \"likes\": {\"count\": 3780190}, \"owner\": {\"id\": \"460563723\"}, \"thumbnail_src\": \"https://scontent-sin6-1.cdninstagram.com/t51.2885-15/s640x640/sh0.08/e35/14027379_745415865600217_1830766871_n.jpg?ig_cache_key=MTMxNzM2NjA1ODYzMzUyNTEyOQ%3D%3D.2\", \"is_video\": false, \"id\": \"1317366058633525129\", \"display_src\": \"https://scontent-sin6-1.cdninstagram.com/t51.2885-15/e35/14027379_745415865600217_1830766871_n.jpg?ig_cache_key=MTMxNzM2NjA1ODYzMzUyNTEyOQ%3D%3D.2\"}, {\"code\": \"BJIGkzOASON\", \"date\": 1471258210, \"dimensions\": {\"width\": 750, \"height\": 750}, \"comments_disabled\": true, \"comments\": {\"count\": 0}, \"caption\": \"My entire heart\", \"likes\": {\"count\": 2670261}, \"owner\": {\"id\": \"460563723\"}, \"thumbnail_src\": \"https://scontent-sin6-1.cdninstagram.com/t51.2885-15/s640x640/sh0.08/e35/13636126_117409118707161_969261513_n.jpg?ig_cache_key=MTMxNzMzMTgwODE4MTg4Nzg4NQ%3D%3D.2\", \"is_video\": false, \"id\": \"1317331808181887885\", \"display_src\": \"https://scontent-sin6-1.cdninstagram.com/t51.2885-15/e35/13636126_117409118707161_969261513_n.jpg?ig_cache_key=MTMxNzMzMTgwODE4MTg4Nzg4NQ%3D%3D.2\"}, {\"code\": \"BJG3JJgggW1\", \"date\": 1471216565, \"dimensions\": {\"width\": 640, \"height\": 640}, \"comments_disabled\": true, \"comments\": {\"count\": 71316}, \"caption\": \"My whole life. You matter most. Thank you for letting me do what I love every day.\", \"likes\": {\"count\": 3002036}, \"owner\": {\"id\": \"460563723\"}, \"thumbnail_src\": \"https://scontent-sin6-1.cdninstagram.com/t51.2885-15/s640x640/sh0.08/e35/13651893_1192638894140536_1711135212_n.jpg?ig_cache_key=MTMxNjk4MjQ2MjI5NDkxODU4MQ%3D%3D.2\", \"is_video\": false, \"id\": \"1316982462294918581\", \"display_src\": \"https://scontent-sin6-1.cdninstagram.com/t51.2885-15/s640x640/sh0.08/e35/13651893_1192638894140536_1711135212_n.jpg?ig_cache_key=MTMxNjk4MjQ2MjI5NDkxODU4MQ%3D%3D.2\"}, {\"code\": \"BJAS8C1AuYM\", \"date\": 1470996257, \"dimensions\": {\"width\": 640, \"height\": 640}, \"comments_disabled\": true, \"comments\": {\"count\": 32106}, \"caption\": \"When my babies take me salsa dancing even when they told me not to because I\\'m sick... I don\\'t care.\", \"likes\": {\"count\": 1911341}, \"owner\": {\"id\": \"460563723\"}, \"thumbnail_src\": \"https://scontent-sin6-1.cdninstagram.com/t51.2885-15/s640x640/e15/13643579_266522240399325_1533431959_n.jpg?ig_cache_key=MTMxNTEzNDM4MjIzNDg1NDkyNA%3D%3D.2\", \"is_video\": true, \"id\": \"1315134382234854924\", \"display_src\": \"https://scontent-sin6-1.cdninstagram.com/t51.2885-15/s640x640/e15/13643579_266522240399325_1533431959_n.jpg?ig_cache_key=MTMxNTEzNDM4MjIzNDg1NDkyNA%3D%3D.2\", \"video_views\": 15951031}, {\"code\": \"BJAS7BsgD0f\", \"date\": 1470996248, \"dimensions\": {\"width\": 1080, \"height\": 1080}, \"comments_disabled\": true, \"comments\": {\"count\": 8665}, \"caption\": \"My love @estradamartin and I\", \"likes\": {\"count\": 1944808}, \"owner\": {\"id\": \"460563723\"}, \"thumbnail_src\": \"https://scontent-sin6-1.cdninstagram.com/t51.2885-15/s640x640/sh0.08/e35/13686882_1748837872061061_1085832282_n.jpg?ig_cache_key=MTMxNTEzNDMxMjI5ODg1NTcxMQ%3D%3D.2\", \"is_video\": false, \"id\": \"1315134312298855711\", \"display_src\": \"https://scontent-sin6-1.cdninstagram.com/t51.2885-15/e35/13686882_1748837872061061_1085832282_n.jpg?ig_cache_key=MTMxNTEzNDMxMjI5ODg1NTcxMQ%3D%3D.2\"}, {\"code\": \"BJAS7CfgAZu\", \"date\": 1470996248, \"dimensions\": {\"width\": 1080, \"height\": 1080}, \"comments_disabled\": false, \"comments\": {\"count\": 47862}, \"caption\": \"Nobody loves me like you do \\\\\\\\ud83d\\\\\\\\ude4f\\\\\\\\ud83c\\\\\\\\udffd\", \"likes\": {\"count\": 3171734}, \"owner\": {\"id\": \"460563723\"}, \"thumbnail_src\": \"https://scontent-sin6-1.cdninstagram.com/t51.2885-15/s640x640/sh0.08/e35/13686876_864713720330398_810862158_n.jpg?ig_cache_key=MTMxNTEzNDMxMzE1NDQ3OTcyNg%3D%3D.2\", \"is_video\": false, \"id\": \"1315134313154479726\", \"display_src\": \"https://scontent-sin6-1.cdninstagram.com/t51.2885-15/e35/13686876_864713720330398_810862158_n.jpg?ig_cache_key=MTMxNTEzNDMxMzE1NDQ3OTcyNg%3D%3D.2\"}, {\"code\": \"BI0LDu-gDcb\", \"date\": 1470589472, \"dimensions\": {\"width\": 612, \"height\": 763}, \"comments_disabled\": true, \"comments\": {\"count\": 54107}, \"caption\": \"Love my Elie. Everyday we do a little catchup/cuddle sesh\", \"likes\": {\"count\": 1971367}, \"owner\": {\"id\": \"460563723\"}, \"thumbnail_src\": \"https://scontent-sin6-1.cdninstagram.com/t51.2885-15/e15/c0.75.612.612/13774417_642118775954363_1940621538_n.jpg?ig_cache_key=MTMxMTcyMjAyNjU4MjQyMzMyMw%3D%3D.2.c\", \"is_video\": true, \"id\": \"1311722026582423323\", \"display_src\": \"https://scontent-sin6-1.cdninstagram.com/t51.2885-15/e15/13774417_642118775954363_1940621538_n.jpg?ig_cache_key=MTMxMTcyMjAyNjU4MjQyMzMyMw%3D%3D.2\", \"video_views\": 15801945}, {\"code\": \"BIy3bviAd8E\", \"date\": 1470545629, \"dimensions\": {\"width\": 1080, \"height\": 1349}, \"comments_disabled\": true, \"comments\": {\"count\": 50}, \"caption\": \"@vogueaustralia \\\\\\\\ud83d\\\\\\\\udc9c in @louisvuitton @nicolasghesquiere\", \"likes\": {\"count\": 2834267}, \"owner\": {\"id\": \"460563723\"}, \"thumbnail_src\": \"https://scontent-sin6-1.cdninstagram.com/t51.2885-15/s640x640/sh0.08/e35/c0.134.1080.1080/13744171_1044599012276585_130265117_n.jpg?ig_cache_key=MTMxMTM1NDI0MDUzODYzMTk0MA%3D%3D.2.c\", \"is_video\": false, \"id\": \"1311354240538631940\", \"display_src\": \"https://scontent-sin6-1.cdninstagram.com/t51.2885-15/e35/13744171_1044599012276585_130265117_n.jpg?ig_cache_key=MTMxMTM1NDI0MDUzODYzMTk0MA%3D%3D.2\"}, {\"code\": \"BIy3X5PgMYG\", \"date\": 1470545597, \"dimensions\": {\"width\": 1080, \"height\": 1349}, \"comments_disabled\": true, \"comments\": {\"count\": 454}, \"caption\": \"My first @vogueaustralia cover came out -thank you so much! So grateful\", \"likes\": {\"count\": 3244475}, \"owner\": {\"id\": \"460563723\"}, \"thumbnail_src\": \"https://scontent-sin6-1.cdninstagram.com/t51.2885-15/s640x640/sh0.08/e35/c0.134.1080.1080/13743135_281513475545096_15885087_n.jpg?ig_cache_key=MTMxMTM1Mzk3NjA4NzY5MjgwNg%3D%3D.2.c\", \"is_video\": false, \"id\": \"1311353976087692806\", \"display_src\": \"https://scontent-sin6-1.cdninstagram.com/t51.2885-15/e35/13743135_281513475545096_15885087_n.jpg?ig_cache_key=MTMxMTM1Mzk3NjA4NzY5MjgwNg%3D%3D.2\"}, {\"code\": \"BIkm6Ihghva\", \"date\": 1470067203, \"dimensions\": {\"width\": 750, \"height\": 921}, \"comments_disabled\": true, \"comments\": {\"count\": 89587}, \"caption\": \"Japan\", \"likes\": {\"count\": 3803867}, \"owner\": {\"id\": \"460563723\"}, \"thumbnail_src\": \"https://scontent-sin6-1.cdninstagram.com/t51.2885-15/s640x640/sh0.08/e35/c0.105.922.922/13743464_1575391166088696_773969894_n.jpg?ig_cache_key=MTMwNzM0MDkxMjQ5MzQ2ODYzNA%3D%3D.2.c\", \"is_video\": false, \"id\": \"1307340912493468634\", \"display_src\": \"https://scontent-sin6-1.cdninstagram.com/t51.2885-15/sh0.08/e35/p750x750/13743464_1575391166088696_773969894_n.jpg?ig_cache_key=MTMwNzM0MDkxMjQ5MzQ2ODYzNA%3D%3D.2\"}, {\"code\": \"BIiCu0qAjzR\", \"date\": 1469981127, \"dimensions\": {\"width\": 1080, \"height\": 810}, \"comments_disabled\": true, \"comments\": {\"count\": 47948}, \"caption\": \"My sweet, hilarious and crazy soul @tmarie247 my life completely changed when I met you. Thank you for putting up with me. You\\'re for LIFE. I love you more than you hate affection. Happy bday\", \"likes\": {\"count\": 3144733}, \"owner\": {\"id\": \"460563723\"}, \"thumbnail_src\": \"https://scontent-sin6-1.cdninstagram.com/t51.2885-15/s640x640/sh0.08/e35/c135.0.810.810/13734463_174687606278494_1475866468_n.jpg?ig_cache_key=MTMwNjYxODg1NTYxOTE4MTc3Nw%3D%3D.2.c\", \"is_video\": false, \"id\": \"1306618855619181777\", \"display_src\": \"https://scontent-sin6-1.cdninstagram.com/t51.2885-15/e35/13734463_174687606278494_1475866468_n.jpg?ig_cache_key=MTMwNjYxODg1NTYxOTE4MTc3Nw%3D%3D.2\"}]}, \"blocked_by_viewer\": false, \"followed_by_viewer\": false, \"is_verified\": true, \"has_blocked_viewer\": false, \"is_private\": false, \"external_url\": \"http://selenagomez.com\"}}]}, \"qe\": {\"profile\": {\"p\": {}, \"g\": \"\"}, \"su_universe\": {\"p\": {}, \"g\": \"\"}, \"us\": {\"p\": {\"display_reg_on_pill\": \"true\"}, \"g\": \"logged_out_mobile_pill_upsell_test_02\"}, \"su\": {\"p\": {\"enabled\": \"true\"}, \"g\": \"test_20160322\"}, \"freq\": {\"p\": {}, \"g\": \"\"}, \"us_li\": {\"p\": {}, \"g\": \"\"}, \"discovery\": {\"p\": {}, \"g\": \"\"}}, \"display_properties_server_guess\": {\"viewport_width\": 360, \"pixel_ratio\": 1.5}, \"config\": {\"viewer\": null, \"csrf_token\": \"kylrWpxlS6z5vXsPhfUK02gd9hUcVCz6\"}, \"environment_switcher_visible_server_guess\": true}'"
      ]
     },
     "execution_count": 11,
     "metadata": {},
     "output_type": "execute_result"
    }
   ],
   "source": [
    "dt = str(data[1]).split(';</script>')\n",
    "dt[0]"
   ]
  },
  {
   "cell_type": "code",
   "execution_count": 13,
   "metadata": {
    "collapsed": false
   },
   "outputs": [],
   "source": [
    "dt1 = json.loads(dt[0])"
   ]
  },
  {
   "cell_type": "code",
   "execution_count": 14,
   "metadata": {
    "collapsed": false
   },
   "outputs": [
    {
     "data": {
      "text/plain": [
       "{u'config': {u'csrf_token': u'kylrWpxlS6z5vXsPhfUK02gd9hUcVCz6',\n",
       "  u'viewer': None},\n",
       " u'country_code': u'ID',\n",
       " u'display_properties_server_guess': {u'pixel_ratio': 1.5,\n",
       "  u'viewport_width': 360},\n",
       " u'entry_data': {u'ProfilePage': [{u'user': {u'biography': u'By grace through faith',\n",
       "     u'blocked_by_viewer': False,\n",
       "     u'country_block': None,\n",
       "     u'external_url': u'http://selenagomez.com',\n",
       "     u'external_url_linkshimmed': u'http://l.instagram.com/?e=ATPsO2UYHS5D9GTuUAg03mVYb8Ud8FqBrlRc3Lp7Ugtyv7nC8qZxfQgN\\\\u0026u=http%3A%2F%2Fselenagomez.com%2F',\n",
       "     u'followed_by': {u'count': 101429458},\n",
       "     u'followed_by_viewer': False,\n",
       "     u'follows': {u'count': 252},\n",
       "     u'follows_viewer': False,\n",
       "     u'full_name': u'Selena Gomez',\n",
       "     u'has_blocked_viewer': False,\n",
       "     u'has_requested_viewer': False,\n",
       "     u'id': u'460563723',\n",
       "     u'is_private': False,\n",
       "     u'is_verified': True,\n",
       "     u'media': {u'count': 1239,\n",
       "      u'nodes': [{u'caption': u'@revivaltour',\n",
       "        u'code': u'BJITJfzgn_P',\n",
       "        u'comments': {u'count': 882607},\n",
       "        u'comments_disabled': False,\n",
       "        u'date': 1471264802,\n",
       "        u'dimensions': {u'height': 750, u'width': 750},\n",
       "        u'display_src': u'https://scontent-sin6-1.cdninstagram.com/t51.2885-15/e35/14052167_1185109048178491_1307504713_n.jpg?ig_cache_key=MTMxNzM4NzEwNjUxNTA1ODYzOQ%3D%3D.2',\n",
       "        u'id': u'1317387106515058639',\n",
       "        u'is_video': False,\n",
       "        u'likes': {u'count': 3160015},\n",
       "        u'owner': {u'id': u'460563723'},\n",
       "        u'thumbnail_src': u'https://scontent-sin6-1.cdninstagram.com/t51.2885-15/s640x640/sh0.08/e35/14052167_1185109048178491_1307504713_n.jpg?ig_cache_key=MTMxNzM4NzEwNjUxNTA1ODYzOQ%3D%3D.2'},\n",
       "       {u'caption': u'One of my favorite nights on tour',\n",
       "        u'code': u'BJIOXNcAfeJ',\n",
       "        u'comments': {u'count': 140127},\n",
       "        u'comments_disabled': False,\n",
       "        u'date': 1471262293,\n",
       "        u'dimensions': {u'height': 750, u'width': 750},\n",
       "        u'display_src': u'https://scontent-sin6-1.cdninstagram.com/t51.2885-15/e35/14027379_745415865600217_1830766871_n.jpg?ig_cache_key=MTMxNzM2NjA1ODYzMzUyNTEyOQ%3D%3D.2',\n",
       "        u'id': u'1317366058633525129',\n",
       "        u'is_video': False,\n",
       "        u'likes': {u'count': 3780190},\n",
       "        u'owner': {u'id': u'460563723'},\n",
       "        u'thumbnail_src': u'https://scontent-sin6-1.cdninstagram.com/t51.2885-15/s640x640/sh0.08/e35/14027379_745415865600217_1830766871_n.jpg?ig_cache_key=MTMxNzM2NjA1ODYzMzUyNTEyOQ%3D%3D.2'},\n",
       "       {u'caption': u'My entire heart',\n",
       "        u'code': u'BJIGkzOASON',\n",
       "        u'comments': {u'count': 0},\n",
       "        u'comments_disabled': True,\n",
       "        u'date': 1471258210,\n",
       "        u'dimensions': {u'height': 750, u'width': 750},\n",
       "        u'display_src': u'https://scontent-sin6-1.cdninstagram.com/t51.2885-15/e35/13636126_117409118707161_969261513_n.jpg?ig_cache_key=MTMxNzMzMTgwODE4MTg4Nzg4NQ%3D%3D.2',\n",
       "        u'id': u'1317331808181887885',\n",
       "        u'is_video': False,\n",
       "        u'likes': {u'count': 2670261},\n",
       "        u'owner': {u'id': u'460563723'},\n",
       "        u'thumbnail_src': u'https://scontent-sin6-1.cdninstagram.com/t51.2885-15/s640x640/sh0.08/e35/13636126_117409118707161_969261513_n.jpg?ig_cache_key=MTMxNzMzMTgwODE4MTg4Nzg4NQ%3D%3D.2'},\n",
       "       {u'caption': u'My whole life. You matter most. Thank you for letting me do what I love every day.',\n",
       "        u'code': u'BJG3JJgggW1',\n",
       "        u'comments': {u'count': 71316},\n",
       "        u'comments_disabled': True,\n",
       "        u'date': 1471216565,\n",
       "        u'dimensions': {u'height': 640, u'width': 640},\n",
       "        u'display_src': u'https://scontent-sin6-1.cdninstagram.com/t51.2885-15/s640x640/sh0.08/e35/13651893_1192638894140536_1711135212_n.jpg?ig_cache_key=MTMxNjk4MjQ2MjI5NDkxODU4MQ%3D%3D.2',\n",
       "        u'id': u'1316982462294918581',\n",
       "        u'is_video': False,\n",
       "        u'likes': {u'count': 3002036},\n",
       "        u'owner': {u'id': u'460563723'},\n",
       "        u'thumbnail_src': u'https://scontent-sin6-1.cdninstagram.com/t51.2885-15/s640x640/sh0.08/e35/13651893_1192638894140536_1711135212_n.jpg?ig_cache_key=MTMxNjk4MjQ2MjI5NDkxODU4MQ%3D%3D.2'},\n",
       "       {u'caption': u\"When my babies take me salsa dancing even when they told me not to because I'm sick... I don't care.\",\n",
       "        u'code': u'BJAS8C1AuYM',\n",
       "        u'comments': {u'count': 32106},\n",
       "        u'comments_disabled': True,\n",
       "        u'date': 1470996257,\n",
       "        u'dimensions': {u'height': 640, u'width': 640},\n",
       "        u'display_src': u'https://scontent-sin6-1.cdninstagram.com/t51.2885-15/s640x640/e15/13643579_266522240399325_1533431959_n.jpg?ig_cache_key=MTMxNTEzNDM4MjIzNDg1NDkyNA%3D%3D.2',\n",
       "        u'id': u'1315134382234854924',\n",
       "        u'is_video': True,\n",
       "        u'likes': {u'count': 1911341},\n",
       "        u'owner': {u'id': u'460563723'},\n",
       "        u'thumbnail_src': u'https://scontent-sin6-1.cdninstagram.com/t51.2885-15/s640x640/e15/13643579_266522240399325_1533431959_n.jpg?ig_cache_key=MTMxNTEzNDM4MjIzNDg1NDkyNA%3D%3D.2',\n",
       "        u'video_views': 15951031},\n",
       "       {u'caption': u'My love @estradamartin and I',\n",
       "        u'code': u'BJAS7BsgD0f',\n",
       "        u'comments': {u'count': 8665},\n",
       "        u'comments_disabled': True,\n",
       "        u'date': 1470996248,\n",
       "        u'dimensions': {u'height': 1080, u'width': 1080},\n",
       "        u'display_src': u'https://scontent-sin6-1.cdninstagram.com/t51.2885-15/e35/13686882_1748837872061061_1085832282_n.jpg?ig_cache_key=MTMxNTEzNDMxMjI5ODg1NTcxMQ%3D%3D.2',\n",
       "        u'id': u'1315134312298855711',\n",
       "        u'is_video': False,\n",
       "        u'likes': {u'count': 1944808},\n",
       "        u'owner': {u'id': u'460563723'},\n",
       "        u'thumbnail_src': u'https://scontent-sin6-1.cdninstagram.com/t51.2885-15/s640x640/sh0.08/e35/13686882_1748837872061061_1085832282_n.jpg?ig_cache_key=MTMxNTEzNDMxMjI5ODg1NTcxMQ%3D%3D.2'},\n",
       "       {u'caption': u'Nobody loves me like you do \\\\ud83d\\\\ude4f\\\\ud83c\\\\udffd',\n",
       "        u'code': u'BJAS7CfgAZu',\n",
       "        u'comments': {u'count': 47862},\n",
       "        u'comments_disabled': False,\n",
       "        u'date': 1470996248,\n",
       "        u'dimensions': {u'height': 1080, u'width': 1080},\n",
       "        u'display_src': u'https://scontent-sin6-1.cdninstagram.com/t51.2885-15/e35/13686876_864713720330398_810862158_n.jpg?ig_cache_key=MTMxNTEzNDMxMzE1NDQ3OTcyNg%3D%3D.2',\n",
       "        u'id': u'1315134313154479726',\n",
       "        u'is_video': False,\n",
       "        u'likes': {u'count': 3171734},\n",
       "        u'owner': {u'id': u'460563723'},\n",
       "        u'thumbnail_src': u'https://scontent-sin6-1.cdninstagram.com/t51.2885-15/s640x640/sh0.08/e35/13686876_864713720330398_810862158_n.jpg?ig_cache_key=MTMxNTEzNDMxMzE1NDQ3OTcyNg%3D%3D.2'},\n",
       "       {u'caption': u'Love my Elie. Everyday we do a little catchup/cuddle sesh',\n",
       "        u'code': u'BI0LDu-gDcb',\n",
       "        u'comments': {u'count': 54107},\n",
       "        u'comments_disabled': True,\n",
       "        u'date': 1470589472,\n",
       "        u'dimensions': {u'height': 763, u'width': 612},\n",
       "        u'display_src': u'https://scontent-sin6-1.cdninstagram.com/t51.2885-15/e15/13774417_642118775954363_1940621538_n.jpg?ig_cache_key=MTMxMTcyMjAyNjU4MjQyMzMyMw%3D%3D.2',\n",
       "        u'id': u'1311722026582423323',\n",
       "        u'is_video': True,\n",
       "        u'likes': {u'count': 1971367},\n",
       "        u'owner': {u'id': u'460563723'},\n",
       "        u'thumbnail_src': u'https://scontent-sin6-1.cdninstagram.com/t51.2885-15/e15/c0.75.612.612/13774417_642118775954363_1940621538_n.jpg?ig_cache_key=MTMxMTcyMjAyNjU4MjQyMzMyMw%3D%3D.2.c',\n",
       "        u'video_views': 15801945},\n",
       "       {u'caption': u'@vogueaustralia \\\\ud83d\\\\udc9c in @louisvuitton @nicolasghesquiere',\n",
       "        u'code': u'BIy3bviAd8E',\n",
       "        u'comments': {u'count': 50},\n",
       "        u'comments_disabled': True,\n",
       "        u'date': 1470545629,\n",
       "        u'dimensions': {u'height': 1349, u'width': 1080},\n",
       "        u'display_src': u'https://scontent-sin6-1.cdninstagram.com/t51.2885-15/e35/13744171_1044599012276585_130265117_n.jpg?ig_cache_key=MTMxMTM1NDI0MDUzODYzMTk0MA%3D%3D.2',\n",
       "        u'id': u'1311354240538631940',\n",
       "        u'is_video': False,\n",
       "        u'likes': {u'count': 2834267},\n",
       "        u'owner': {u'id': u'460563723'},\n",
       "        u'thumbnail_src': u'https://scontent-sin6-1.cdninstagram.com/t51.2885-15/s640x640/sh0.08/e35/c0.134.1080.1080/13744171_1044599012276585_130265117_n.jpg?ig_cache_key=MTMxMTM1NDI0MDUzODYzMTk0MA%3D%3D.2.c'},\n",
       "       {u'caption': u'My first @vogueaustralia cover came out -thank you so much! So grateful',\n",
       "        u'code': u'BIy3X5PgMYG',\n",
       "        u'comments': {u'count': 454},\n",
       "        u'comments_disabled': True,\n",
       "        u'date': 1470545597,\n",
       "        u'dimensions': {u'height': 1349, u'width': 1080},\n",
       "        u'display_src': u'https://scontent-sin6-1.cdninstagram.com/t51.2885-15/e35/13743135_281513475545096_15885087_n.jpg?ig_cache_key=MTMxMTM1Mzk3NjA4NzY5MjgwNg%3D%3D.2',\n",
       "        u'id': u'1311353976087692806',\n",
       "        u'is_video': False,\n",
       "        u'likes': {u'count': 3244475},\n",
       "        u'owner': {u'id': u'460563723'},\n",
       "        u'thumbnail_src': u'https://scontent-sin6-1.cdninstagram.com/t51.2885-15/s640x640/sh0.08/e35/c0.134.1080.1080/13743135_281513475545096_15885087_n.jpg?ig_cache_key=MTMxMTM1Mzk3NjA4NzY5MjgwNg%3D%3D.2.c'},\n",
       "       {u'caption': u'Japan',\n",
       "        u'code': u'BIkm6Ihghva',\n",
       "        u'comments': {u'count': 89587},\n",
       "        u'comments_disabled': True,\n",
       "        u'date': 1470067203,\n",
       "        u'dimensions': {u'height': 921, u'width': 750},\n",
       "        u'display_src': u'https://scontent-sin6-1.cdninstagram.com/t51.2885-15/sh0.08/e35/p750x750/13743464_1575391166088696_773969894_n.jpg?ig_cache_key=MTMwNzM0MDkxMjQ5MzQ2ODYzNA%3D%3D.2',\n",
       "        u'id': u'1307340912493468634',\n",
       "        u'is_video': False,\n",
       "        u'likes': {u'count': 3803867},\n",
       "        u'owner': {u'id': u'460563723'},\n",
       "        u'thumbnail_src': u'https://scontent-sin6-1.cdninstagram.com/t51.2885-15/s640x640/sh0.08/e35/c0.105.922.922/13743464_1575391166088696_773969894_n.jpg?ig_cache_key=MTMwNzM0MDkxMjQ5MzQ2ODYzNA%3D%3D.2.c'},\n",
       "       {u'caption': u\"My sweet, hilarious and crazy soul @tmarie247 my life completely changed when I met you. Thank you for putting up with me. You're for LIFE. I love you more than you hate affection. Happy bday\",\n",
       "        u'code': u'BIiCu0qAjzR',\n",
       "        u'comments': {u'count': 47948},\n",
       "        u'comments_disabled': True,\n",
       "        u'date': 1469981127,\n",
       "        u'dimensions': {u'height': 810, u'width': 1080},\n",
       "        u'display_src': u'https://scontent-sin6-1.cdninstagram.com/t51.2885-15/e35/13734463_174687606278494_1475866468_n.jpg?ig_cache_key=MTMwNjYxODg1NTYxOTE4MTc3Nw%3D%3D.2',\n",
       "        u'id': u'1306618855619181777',\n",
       "        u'is_video': False,\n",
       "        u'likes': {u'count': 3144733},\n",
       "        u'owner': {u'id': u'460563723'},\n",
       "        u'thumbnail_src': u'https://scontent-sin6-1.cdninstagram.com/t51.2885-15/s640x640/sh0.08/e35/c135.0.810.810/13734463_174687606278494_1475866468_n.jpg?ig_cache_key=MTMwNjYxODg1NTYxOTE4MTc3Nw%3D%3D.2.c'}],\n",
       "      u'page_info': {u'end_cursor': u'1306618855619181777',\n",
       "       u'has_next_page': True,\n",
       "       u'has_previous_page': False,\n",
       "       u'start_cursor': u'1317387106515058639'}},\n",
       "     u'profile_pic_url': u'https://scontent-sin6-1.cdninstagram.com/t51.2885-19/s150x150/12918537_1719366751611008_1708400518_a.jpg',\n",
       "     u'profile_pic_url_hd': u'https://scontent-sin6-1.cdninstagram.com/t51.2885-19/s320x320/12918537_1719366751611008_1708400518_a.jpg',\n",
       "     u'requested_by_viewer': False,\n",
       "     u'username': u'selenagomez'}}]},\n",
       " u'environment_switcher_visible_server_guess': True,\n",
       " u'gatekeepers': {u'cc': True},\n",
       " u'hostname': u'www.instagram.com',\n",
       " u'language_code': u'en',\n",
       " u'platform': u'web',\n",
       " u'qe': {u'discovery': {u'g': u'', u'p': {}},\n",
       "  u'freq': {u'g': u'', u'p': {}},\n",
       "  u'profile': {u'g': u'', u'p': {}},\n",
       "  u'su': {u'g': u'test_20160322', u'p': {u'enabled': u'true'}},\n",
       "  u'su_universe': {u'g': u'', u'p': {}},\n",
       "  u'us': {u'g': u'logged_out_mobile_pill_upsell_test_02',\n",
       "   u'p': {u'display_reg_on_pill': u'true'}},\n",
       "  u'us_li': {u'g': u'', u'p': {}}},\n",
       " u'show_app_install': True,\n",
       " u'static_root': u'//instagramstatic-a.akamaihd.net/h1'}"
      ]
     },
     "execution_count": 14,
     "metadata": {},
     "output_type": "execute_result"
    }
   ],
   "source": [
    "dt1"
   ]
  },
  {
   "cell_type": "code",
   "execution_count": 22,
   "metadata": {
    "collapsed": false
   },
   "outputs": [],
   "source": [
    "nodes = dt1['entry_data']['ProfilePage'][0]['user']['media']['nodes']"
   ]
  },
  {
   "cell_type": "code",
   "execution_count": 27,
   "metadata": {
    "collapsed": false
   },
   "outputs": [
    {
     "name": "stdout",
     "output_type": "stream",
     "text": [
      "12\n"
     ]
    }
   ],
   "source": [
    "print len(nodes)"
   ]
  },
  {
   "cell_type": "code",
   "execution_count": 28,
   "metadata": {
    "collapsed": false
   },
   "outputs": [
    {
     "data": {
      "text/plain": [
       "{u'caption': u'@revivaltour',\n",
       " u'code': u'BJITJfzgn_P',\n",
       " u'comments': {u'count': 882607},\n",
       " u'comments_disabled': False,\n",
       " u'date': 1471264802,\n",
       " u'dimensions': {u'height': 750, u'width': 750},\n",
       " u'display_src': u'https://scontent-sin6-1.cdninstagram.com/t51.2885-15/e35/14052167_1185109048178491_1307504713_n.jpg?ig_cache_key=MTMxNzM4NzEwNjUxNTA1ODYzOQ%3D%3D.2',\n",
       " u'id': u'1317387106515058639',\n",
       " u'is_video': False,\n",
       " u'likes': {u'count': 3160015},\n",
       " u'owner': {u'id': u'460563723'},\n",
       " u'thumbnail_src': u'https://scontent-sin6-1.cdninstagram.com/t51.2885-15/s640x640/sh0.08/e35/14052167_1185109048178491_1307504713_n.jpg?ig_cache_key=MTMxNzM4NzEwNjUxNTA1ODYzOQ%3D%3D.2'}"
      ]
     },
     "execution_count": 28,
     "metadata": {},
     "output_type": "execute_result"
    }
   ],
   "source": [
    "nodes[0]"
   ]
  },
  {
   "cell_type": "code",
   "execution_count": null,
   "metadata": {
    "collapsed": true
   },
   "outputs": [],
   "source": []
  }
 ],
 "metadata": {
  "kernelspec": {
   "display_name": "Python 2",
   "language": "python",
   "name": "python2"
  },
  "language_info": {
   "codemirror_mode": {
    "name": "ipython",
    "version": 2
   },
   "file_extension": ".py",
   "mimetype": "text/x-python",
   "name": "python",
   "nbconvert_exporter": "python",
   "pygments_lexer": "ipython2",
   "version": "2.7.10"
  }
 },
 "nbformat": 4,
 "nbformat_minor": 0
}
