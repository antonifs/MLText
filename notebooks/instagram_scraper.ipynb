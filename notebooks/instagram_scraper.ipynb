{
 "cells": [
  {
   "cell_type": "code",
   "execution_count": 1,
   "metadata": {
    "collapsed": true
   },
   "outputs": [],
   "source": [
    "import urllib2, re, csv, os, os.path, json, string\n",
    "from bs4 import BeautifulSoup"
   ]
  },
  {
   "cell_type": "code",
   "execution_count": 2,
   "metadata": {
    "collapsed": true
   },
   "outputs": [],
   "source": [
    "# Config\n",
    "protocol = 'https://www.'\n",
    "domain = 'instagram.com/'\n",
    "site = protocol + domain\n",
    "identifier = 'window._sharedData ='"
   ]
  },
  {
   "cell_type": "code",
   "execution_count": 3,
   "metadata": {
    "collapsed": true
   },
   "outputs": [],
   "source": [
    "# write to .csv file\n",
    "def create_csv(name, data):\n",
    "    doc = name + '.csv'\n",
    "    with open(doc, 'w') as fp:\n",
    "        a = csv.writer(fp)\n",
    "        a.writerows(data)\n",
    "\n",
    "# check if the .csv file is         \n",
    "def is_completed(name):\n",
    "    doc ='./' + name + '.csv'\n",
    "    if os.path.isfile(doc) and os.stat(doc).st_size > 0:\n",
    "        return True\n",
    "    else:\n",
    "        return False \n",
    "\n",
    "def make_soup(username):\n",
    "    request = urllib2.Request(site)\n",
    "    response = urllib2.urlopen(request)\n",
    "    soup = BeautifulSoup(response, \"html.parser\")\n",
    "    return soup\n",
    "\n",
    "def convert_to_json(data):\n",
    "    data_json = json.loads(data[0])\n",
    "\n",
    "def get_nodes(data):\n",
    "    data = convert_to_json(data)\n",
    "    return data['entry_data']['ProfilePage'][0]['user']['media']['nodes']"
   ]
  },
  {
   "cell_type": "code",
   "execution_count": 4,
   "metadata": {
    "collapsed": false
   },
   "outputs": [],
   "source": [
    "username = 'selenagomez'\n",
    "soup = make_soup(username)\n",
    "\n",
    "tag = 'script'\n",
    "data = soup.body\n",
    "# data = data.findAll(tag)\n",
    "# data = str(data).split(identifier)\n",
    "\n",
    "# data_splited = str(data[1]).split(';</script>')\n",
    "# # nodes = get_nodes(data_splited)"
   ]
  },
  {
   "cell_type": "code",
   "execution_count": 5,
   "metadata": {
    "collapsed": false
   },
   "outputs": [
    {
     "name": "stdout",
     "output_type": "stream",
     "text": [
      "<body class=\"\">\n",
      "<span id=\"react-root\"></span>\n",
      "<script src=\"//instagramstatic-a.akamaihd.net/h1/scripts/polyfills/es5-shim.min.js/6514c5e08593.js\"></script>\n",
      "<script src=\"//instagramstatic-a.akamaihd.net/h1/scripts/polyfills/es5-sham.min.js/fc3c22cf2d67.js\"></script>\n",
      "<script type=\"text/javascript\">window._sharedData = {\"country_code\": \"ID\", \"language_code\": \"en\", \"gatekeepers\": {\"cc\": true}, \"show_app_install\": true, \"static_root\": \"//instagramstatic-a.akamaihd.net/h1\", \"platform\": \"web\", \"hostname\": \"www.instagram.com\", \"entry_data\": {\"LandingPage\": [{}]}, \"qe\": {\"profile\": {\"p\": {}, \"g\": \"\"}, \"su_universe\": {\"p\": {}, \"g\": \"\"}, \"us\": {\"p\": {}, \"g\": \"\"}, \"su\": {\"p\": {\"enabled\": \"true\"}, \"g\": \"test_20160322\"}, \"freq\": {\"p\": {}, \"g\": \"\"}, \"us_li\": {\"p\": {}, \"g\": \"\"}, \"discovery\": {\"p\": {}, \"g\": \"\"}}, \"display_properties_server_guess\": {\"viewport_width\": 360, \"pixel_ratio\": 1.5}, \"config\": {\"viewer\": null, \"csrf_token\": \"thwc3KpDOrj4yviMexXn2KVsYlIOMPSx\"}, \"environment_switcher_visible_server_guess\": true};</script>\n",
      "<script crossorigin=\"anonymous\" src=\"//instagramstatic-a.akamaihd.net/h1/bundles/en_US_Commons.js/4ca6dcad6f43.js\" type=\"text/javascript\"></script>\n",
      "<script crossorigin=\"anonymous\" src=\"//instagramstatic-a.akamaihd.net/h1/bundles/en_US_LandingPage.js/5e6032039f96.js\" type=\"text/javascript\"></script>\n",
      "<script>\n",
      "!function(f,b,e,v,n,t,s){if(f.fbq)return;n=f.fbq=function(){n.callMethod?\n",
      "n.callMethod.apply(n,arguments):n.queue.push(arguments)};if(!f._fbq)f._fbq=n;\n",
      "n.push=n;n.loaded=!0;n.version='2.0';n.queue=[];t=b.createElement(e);t.async=!0;\n",
      "t.src=v;s=b.getElementsByTagName(e)[0];s.parentNode.insertBefore(t,s)}(window,\n",
      "document,'script','//connect.facebook.net/en_US/fbevents.js');\n",
      "\n",
      "fbq('init', '1425767024389221');\n",
      "\n",
      "fbq('track', 'PageView');\n",
      "\n",
      "\n",
      "</script>\n",
      "<noscript>\n",
      "</noscript>\n",
      "<script type=\"text/javascript\">window._timings.domInteractive = Date.now()</script>\n",
      "</body>\n"
     ]
    }
   ],
   "source": [
    "# data_splited[0]\n",
    "\n",
    "print data"
   ]
  },
  {
   "cell_type": "code",
   "execution_count": 6,
   "metadata": {
    "collapsed": false
   },
   "outputs": [],
   "source": [
    "# for node in nodes:\n",
    "#     print str(node['code']) + \" \" + str(node['likes']['count'])\n",
    "#     print \"\\n\""
   ]
  },
  {
   "cell_type": "code",
   "execution_count": null,
   "metadata": {
    "collapsed": true
   },
   "outputs": [],
   "source": []
  }
 ],
 "metadata": {
  "kernelspec": {
   "display_name": "Python 2",
   "language": "python",
   "name": "python2"
  },
  "language_info": {
   "codemirror_mode": {
    "name": "ipython",
    "version": 2
   },
   "file_extension": ".py",
   "mimetype": "text/x-python",
   "name": "python",
   "nbconvert_exporter": "python",
   "pygments_lexer": "ipython2",
   "version": "2.7.10"
  }
 },
 "nbformat": 4,
 "nbformat_minor": 0
}
