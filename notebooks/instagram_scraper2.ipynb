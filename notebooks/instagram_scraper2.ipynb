{
 "cells": [
  {
   "cell_type": "code",
   "execution_count": 1,
   "metadata": {
    "collapsed": true
   },
   "outputs": [],
   "source": [
    "import urllib2, re, csv, os, os.path, string, json\n",
    "from bs4 import BeautifulSoup"
   ]
  },
  {
   "cell_type": "code",
   "execution_count": 2,
   "metadata": {
    "collapsed": true
   },
   "outputs": [],
   "source": [
    "# config\n",
    "protocol = 'https://www.'\n",
    "domain = 'instagram.com/'\n",
    "username = 'selenagomez'\n",
    "site = protocol + domain + username\n",
    "\n",
    "# tag identifier of which content will be graped\n",
    "identifier = 'window._sharedData ='"
   ]
  },
  {
   "cell_type": "code",
   "execution_count": 3,
   "metadata": {
    "collapsed": true
   },
   "outputs": [],
   "source": [
    "# Beautiful soup turns your web target into a cup of soup\n",
    "def make_soup(data):\n",
    "    return BeautifulSoup(data, \"html.parser\")\n",
    "\n",
    "# Define and get the target\n",
    "def grap_content(site):\n",
    "    request = urllib2.Request(site)\n",
    "    return urllib2.urlopen(request)\n",
    "\n",
    "# Plating the soup\n",
    "def platting(soup):\n",
    "    data = soup.body.findAll('script')\n",
    "    data = str(data).split(identifier)\n",
    "    data = str(data[1]).split(';</script>')\n",
    "    data = json.loads(data[0])\n",
    "    return data['entry_data']['ProfilePage'][0]['user']['media']['nodes']"
   ]
  },
  {
   "cell_type": "code",
   "execution_count": 4,
   "metadata": {
    "collapsed": false
   },
   "outputs": [],
   "source": [
    "response = grap_content(site)\n",
    "soup = make_soup(response)\n",
    "nodes = platting(soup)"
   ]
  },
  {
   "cell_type": "code",
   "execution_count": 5,
   "metadata": {
    "collapsed": false
   },
   "outputs": [
    {
     "name": "stdout",
     "output_type": "stream",
     "text": [
      "BJITJfzgn_P like: 3161314 comments: 883389\n",
      "BJIOXNcAfeJ like: 3781453 comments: 140230\n",
      "BJIGkzOASON like: 2670899 comments: 0\n",
      "BJG3JJgggW1 like: 3002517 comments: 71316\n",
      "BJAS8C1AuYM like: 1911751 comments: 32106\n",
      "BJAS7BsgD0f like: 1945106 comments: 8665\n",
      "BJAS7CfgAZu like: 3172125 comments: 47891\n",
      "BI0LDu-gDcb like: 1971640 comments: 54107\n",
      "BIy3bviAd8E like: 2834509 comments: 50\n",
      "BIy3X5PgMYG like: 3244832 comments: 454\n",
      "BIkm6Ihghva like: 3804235 comments: 89587\n",
      "BIiCu0qAjzR like: 3144967 comments: 47948\n"
     ]
    }
   ],
   "source": [
    "for node in nodes:\n",
    "    print str(node['code']) + \" like: \" + str(node['likes']['count']) + \" comments: \" + str(node['comments']['count'])"
   ]
  },
  {
   "cell_type": "code",
   "execution_count": 6,
   "metadata": {
    "collapsed": false
   },
   "outputs": [
    {
     "data": {
      "text/plain": [
       "{u'caption': u'My entire heart',\n",
       " u'code': u'BJIGkzOASON',\n",
       " u'comments': {u'count': 0},\n",
       " u'comments_disabled': True,\n",
       " u'date': 1471258210,\n",
       " u'dimensions': {u'height': 750, u'width': 750},\n",
       " u'display_src': u'https://scontent-sin6-1.cdninstagram.com/t51.2885-15/e35/13636126_117409118707161_969261513_n.jpg?ig_cache_key=MTMxNzMzMTgwODE4MTg4Nzg4NQ%3D%3D.2',\n",
       " u'id': u'1317331808181887885',\n",
       " u'is_video': False,\n",
       " u'likes': {u'count': 2670899},\n",
       " u'owner': {u'id': u'460563723'},\n",
       " u'thumbnail_src': u'https://scontent-sin6-1.cdninstagram.com/t51.2885-15/s640x640/sh0.08/e35/13636126_117409118707161_969261513_n.jpg?ig_cache_key=MTMxNzMzMTgwODE4MTg4Nzg4NQ%3D%3D.2'}"
      ]
     },
     "execution_count": 6,
     "metadata": {},
     "output_type": "execute_result"
    }
   ],
   "source": [
    "nodes[2]"
   ]
  },
  {
   "cell_type": "code",
   "execution_count": null,
   "metadata": {
    "collapsed": true
   },
   "outputs": [],
   "source": []
  }
 ],
 "metadata": {
  "kernelspec": {
   "display_name": "Python 2",
   "language": "python",
   "name": "python2"
  },
  "language_info": {
   "codemirror_mode": {
    "name": "ipython",
    "version": 2
   },
   "file_extension": ".py",
   "mimetype": "text/x-python",
   "name": "python",
   "nbconvert_exporter": "python",
   "pygments_lexer": "ipython2",
   "version": "2.7.10"
  }
 },
 "nbformat": 4,
 "nbformat_minor": 0
}
