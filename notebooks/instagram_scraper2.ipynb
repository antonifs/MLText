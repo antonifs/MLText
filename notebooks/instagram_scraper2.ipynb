{
 "cells": [
  {
   "cell_type": "code",
   "execution_count": 1,
   "metadata": {
    "collapsed": true
   },
   "outputs": [],
   "source": [
    "import urllib2, re, csv, os, os.path\n",
    "from bs4 import BeautifulSoup"
   ]
  },
  {
   "cell_type": "code",
   "execution_count": 2,
   "metadata": {
    "collapsed": true
   },
   "outputs": [],
   "source": [
    "# write to .csv file\n",
    "def create_csv(name, data):\n",
    "    doc = name + '.csv'\n",
    "    with open(doc, 'w') as fp:\n",
    "        a = csv.writer(fp)\n",
    "        a.writerows(data)\n",
    "\n",
    "# check if the .csv file is         \n",
    "def is_completed(name):\n",
    "    doc ='./' + name + '.csv'\n",
    "    if os.path.isfile(doc) and os.stat(doc).st_size > 0:\n",
    "        return True\n",
    "    else:\n",
    "        return False"
   ]
  },
  {
   "cell_type": "code",
   "execution_count": 3,
   "metadata": {
    "collapsed": true
   },
   "outputs": [],
   "source": [
    "import json\n",
    "protocol = 'https://www.'\n",
    "\n",
    "# Domain name of the website\n",
    "domain = 'instagram.com/selenagomez'\n",
    "site = protocol + domain\n",
    "\n",
    "identifier = 'window._sharedData ='\n",
    "\n",
    "request = urllib2.Request(site)\n",
    "response = urllib2.urlopen(request)\n",
    "soup = BeautifulSoup(response, \"html.parser\")"
   ]
  },
  {
   "cell_type": "code",
   "execution_count": 8,
   "metadata": {
    "collapsed": false
   },
   "outputs": [],
   "source": [
    "import string\n",
    "\n",
    "body = soup.body\n",
    "data = body.findAll('script')\n",
    "data = str(data).split(identifier)\n",
    "dt = str(data[1]).split(';</script>')\n",
    "dt1 = json.loads(dt[0])\n",
    "nodes = dt1['entry_data']['ProfilePage'][0]['user']['media']['nodes']"
   ]
  },
  {
   "cell_type": "code",
   "execution_count": 14,
   "metadata": {
    "collapsed": false
   },
   "outputs": [
    {
     "name": "stdout",
     "output_type": "stream",
     "text": [
      "BJITJfzgn_P like: 3160807 comments: 883073\n",
      "BJIOXNcAfeJ like: 3780969 comments: 140191\n",
      "BJIGkzOASON like: 2670643 comments: 0\n",
      "BJG3JJgggW1 like: 3002334 comments: 71316\n",
      "BJAS8C1AuYM like: 1911584 comments: 32106\n",
      "BJAS7BsgD0f like: 1944987 comments: 8665\n",
      "BJAS7CfgAZu like: 3171970 comments: 47876\n",
      "BI0LDu-gDcb like: 1971525 comments: 54107\n",
      "BIy3bviAd8E like: 2834409 comments: 50\n",
      "BIy3X5PgMYG like: 3244695 comments: 454\n",
      "BIkm6Ihghva like: 3804090 comments: 89587\n",
      "BIiCu0qAjzR like: 3144885 comments: 47948\n"
     ]
    }
   ],
   "source": [
    "for node in nodes:\n",
    "    print str(node['code']) + \" like: \" + str(node['likes']['count']) + \" comments: \" + str(node['comments']['count'])"
   ]
  },
  {
   "cell_type": "code",
   "execution_count": 16,
   "metadata": {
    "collapsed": false
   },
   "outputs": [
    {
     "data": {
      "text/plain": [
       "{u'caption': u'My entire heart',\n",
       " u'code': u'BJIGkzOASON',\n",
       " u'comments': {u'count': 0},\n",
       " u'comments_disabled': True,\n",
       " u'date': 1471258210,\n",
       " u'dimensions': {u'height': 750, u'width': 750},\n",
       " u'display_src': u'https://scontent-sin6-1.cdninstagram.com/t51.2885-15/e35/13636126_117409118707161_969261513_n.jpg?ig_cache_key=MTMxNzMzMTgwODE4MTg4Nzg4NQ%3D%3D.2',\n",
       " u'id': u'1317331808181887885',\n",
       " u'is_video': False,\n",
       " u'likes': {u'count': 2670643},\n",
       " u'owner': {u'id': u'460563723'},\n",
       " u'thumbnail_src': u'https://scontent-sin6-1.cdninstagram.com/t51.2885-15/s640x640/sh0.08/e35/13636126_117409118707161_969261513_n.jpg?ig_cache_key=MTMxNzMzMTgwODE4MTg4Nzg4NQ%3D%3D.2'}"
      ]
     },
     "execution_count": 16,
     "metadata": {},
     "output_type": "execute_result"
    }
   ],
   "source": [
    "nodes[2]"
   ]
  },
  {
   "cell_type": "code",
   "execution_count": null,
   "metadata": {
    "collapsed": true
   },
   "outputs": [],
   "source": []
  }
 ],
 "metadata": {
  "kernelspec": {
   "display_name": "Python 2",
   "language": "python",
   "name": "python2"
  },
  "language_info": {
   "codemirror_mode": {
    "name": "ipython",
    "version": 2
   },
   "file_extension": ".py",
   "mimetype": "text/x-python",
   "name": "python",
   "nbconvert_exporter": "python",
   "pygments_lexer": "ipython2",
   "version": "2.7.10"
  }
 },
 "nbformat": 4,
 "nbformat_minor": 0
}
